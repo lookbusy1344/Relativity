{
 "cells": [
  {
   "cell_type": "markdown",
   "id": "89a22ac5",
   "metadata": {},
   "source": [
    "# Spacetime Intervals\n",
    "\n",
    "[![Open In Colab](https://colab.research.google.com/assets/colab-badge.svg)](https://colab.research.google.com/github/lookbusy1344/Relativity/blob/main/Python/Spacetime%20interval.ipynb)\n",
    "\n",
    "## In classical physics, distance is independent of time\n",
    "\n",
    "In classical physics, the distance between two points in space is given by the Pythagorean theorem, and is independent of time. The distance $d$ between two points in a three-dimensional space with coordinates $(x_1, y_1, z_1)$ and $(x_2, y_2, z_2)$ is given by:\n",
    "\n",
    "$$d = \\sqrt{\\Delta x^2 + \\Delta y^2 + \\Delta z^2}$$\n",
    "\n",
    "For example, if we have two points in space with coordinates $(1, 2, 3)$ and $(4, 5, 6)$, the distance between them is:\n",
    "\n",
    "$$d = \\sqrt{(4 - 1)^2 + (5 - 2)^2 + (6 - 3)^2} = \\sqrt{3^2 + 3^2 + 3^2} = \\sqrt{27} = 3\\sqrt{3} \\approx 5.196$$\n",
    "\n",
    "## In special relativity, space and time are intertwined\n",
    "\n",
    "In *special relativity*, distances and time can vary according to the observer's frame of reference. Two events might be 1 metre apart from one frame, but 10 metres apart in a different frame. To account for this, we need a new way of measuring distances (intervals) that incorporates both space and time. *Spacetime intervals* combine both spatial and temporal dimensions and do not depend on the observer's motion. Two events will always have the same spacetime interval, even though the spacial and temporal distances may differ for different observers.\n",
    "\n",
    "The *spacetime interval squared* $\\Delta s^2$ between two events is:\n",
    "\n",
    "$$\n",
    "\\Delta s^2 = c^2 \\Delta t^2 - \\Delta x^2 - \\Delta y^2 - \\Delta z^2\n",
    "$$\n",
    "\n",
    "where $c$ is the speed of light, $\\Delta t$ is the time difference, and $\\Delta x$, $\\Delta y$, $\\Delta z$ are the spatial differences.\n",
    "\n",
    "3 types of spacetime intervals can be defined based on the sign of $\\Delta s^2$:\n",
    "- *Time-like*: $\\Delta s^2 > 0$ (events can be causally connected, separation is primarily in time)\n",
    "- *Space-like*: $\\Delta s^2 < 0$ (events cannot influence each other, separation is primarily in space)\n",
    "- *Light-like (null)*: $\\Delta s^2 = 0$ (events connected by light signals)\n",
    "\n",
    "## Making it simpler, 1-D space\n",
    "\n",
    "To simplify the math, instead of 3 spacial dimensions ($x, y, z$) and time, we can use only 1 spatial dimension ($x$) and time ($t$). All spacial coordinates appear on a 1-D line. The spacetime interval can then be expressed as:\n",
    "\n",
    "$$\\Delta s^2 = c^2 \\Delta t^2 - \\Delta x^2$$\n",
    "\n",
    "## Example Calculation"
   ]
  },
  {
   "cell_type": "code",
   "execution_count": null,
   "id": "e1f160d6",
   "metadata": {
    "trusted": true
   },
   "outputs": [
    {
     "name": "stdout",
     "output_type": "stream",
     "text": [
      "Rest frame  : Δt = 0.0, Δx = 4.0, interval squared = -16.000\n",
      "Moving frame: Δt = -5.333, Δx = 6.667, interval squared = -16.000\n"
     ]
    }
   ],
   "source": [
    "import math\n",
    "\n",
    "def spacetime_interval_1d(t1: float, x1: float, t2: float, x2: float) -> float:\n",
    "    \"\"\"\n",
    "    Return s^2 for two events in 1+1D Minkowski space (c=1).\n",
    "    \"\"\"\n",
    "    dt = t2 - t1  # Time difference\n",
    "    dx = x2 - x1  # Space difference\n",
    "    return dt**2 - dx**2\n",
    "\n",
    "\n",
    "def lorentz_transform_1d(t: float, x: float, v: float) -> tuple[float, float]:\n",
    "    \"\"\"\n",
    "    Apply the Lorentz transformation for 1+1D spacetime.\n",
    "\n",
    "    Returns:\n",
    "    tuple: (t', x') in the moving frame\n",
    "    \"\"\"\n",
    "    gamma = 1 / math.sqrt(1 - v**2)\n",
    "    t_prime = gamma * (t - v * x)\n",
    "    x_prime = gamma * (x - v * t)\n",
    "    return t_prime, x_prime\n",
    "\n",
    "\n",
    "# Simultaneous events, spatially separated by 4 units\n",
    "# in the rest frame (t1, x1) = (0, 0) and (t2, x2) = (0, 4).\n",
    "t1, x1 = 0.0, 0.0\n",
    "t2, x2 = 0.0, 4.0\n",
    "\n",
    "interval_s = spacetime_interval_1d(t1, x1, t2, x2)\n",
    "\n",
    "# Moving frame with v = 0.8 (80% of the speed of light)\n",
    "v = 0.8\n",
    "t1p, x1p = lorentz_transform_1d(t1, x1, v)\n",
    "t2p, x2p = lorentz_transform_1d(t2, x2, v)\n",
    "interval_s_prime = spacetime_interval_1d(t1p, x1p, t2p, x2p)\n",
    "\n",
    "print(\n",
    "    f\"Rest frame  : Δt = {t2 - t1}, Δx = {x2 - x1}, interval squared = {interval_s:.3f}\"\n",
    ")\n",
    "print(\n",
    "    f\"Moving frame: Δt = {t2p - t1p:.3f}, Δx = {x2p - x1p:.3f}, interval squared = {interval_s_prime:.3f}\"\n",
    ")"
   ]
  },
  {
   "cell_type": "markdown",
   "id": "b5ab6f65",
   "metadata": {},
   "source": [
    "In this example:\n",
    "\n",
    "- In the rest frame, the events are simultaneous (Δt = 0), spatially separated by 4 units (Δx = 4).\n",
    "- In the moving frame, the events are no longer simultaneous (Δt = -5.3), and the spatial separation has expanded (Δx = 6.6).\n",
    "\n",
    "The interval squared (-16) is negative, so its space-like. In both frames the events are spatially separated and not causally connected.\n",
    "\n",
    "### Simultaneity\n",
    "\n",
    "Notice that two simultaneous events in one frame are not simultaneous in another! They have also moved physically further apart. Space and time have in some sense been \"smeared out\" into each other, strongly suggesting that the two are interconnected, hence relativity uses the term 'spacetime'.\n",
    "\n",
    "### Invariant intervals\n",
    "\n",
    "All this changing of distances and times is confusing! But even though the space and time components change, the spacetime interval squared (s²) remains invariant (−16), which is the key result. This is how we measure a unchanging separation between to points in spacetime.\n",
    "\n",
    "## Second example\n",
    "\n",
    "Lets take two events separated by 5 seconds and 3 million kilometers in the rest frame (Frame A). This time we use my `relativity_lib.py` library for increased accuracy and convenience. Its included in the repository.\n",
    "\n",
    "*3 million km is approximately 10 light-seconds, about 7 times further away than the moon. We use a large distance so the effect is more pronounced. Light moves so quickly is covers 300m in a microsecond!*\n",
    "\n",
    "The second frame is B, moving at 0.99c compared to the first frame. This is 296,794,533 m/s.\n"
   ]
  },
  {
   "cell_type": "code",
   "execution_count": 4,
   "id": "9ed57212",
   "metadata": {
    "trusted": true
   },
   "outputs": [
    {
     "name": "stdout",
     "output_type": "stream",
     "text": [
      "Frame A - at rest with respect to the events\n",
      "Separation 5.0 seconds in time and 3000000.0 km apart\n",
      "Interval squared before transform: -6,753,112,053,157,955,900.0\n",
      "\n",
      "Frame B - Lorentz transform with velocity v = 0.99c\n",
      "Separation -34.78 seconds in time and 10,746,832 km apart\n",
      "Interval squared after transform: -6,753,112,053,157,955,900.0\n"
     ]
    }
   ],
   "source": [
    "# Download relativity_lib.py from your GitHub repo if not present. Important for colab.\n",
    "import os\n",
    "\n",
    "if not os.path.exists(\"relativity_lib.py\"):\n",
    "    !wget -q https://raw.githubusercontent.com/lookbusy1344/Relativity/main/Python/relativity_lib.py\n",
    "\n",
    "import mpmath as mp\n",
    "import relativity_lib as rl\n",
    "\n",
    "# import importlib\n",
    "# importlib.reload(rl)\n",
    "\n",
    "rl.configure(50)\n",
    "x1 = mp.mpf(0)  # spacial origin\n",
    "t1 = mp.mpf(0)  # time origin\n",
    "x2 = x1 + mp.mpf(\"3000000000\")  # 3 million km, approx 10 light-seconds away\n",
    "t2 = t1 + mp.mpf(5)  # 5 seconds later\n",
    "\n",
    "interval_s = rl.spacetime_interval_1d((t1, x1), (t2, x2))\n",
    "print(\"Frame A - at rest with respect to the events\")\n",
    "print(f\"Separation {t2} seconds in time and {x2 / mp.mpf(1000)} km apart\")\n",
    "print(f\"Interval squared before transform: {rl.format_mpf(interval_s, 1)}\")\n",
    "\n",
    "# Lorentz transform\n",
    "print()\n",
    "vel = mp.mpf(\"0.99\")  # 99% of the speed of light\n",
    "print(f\"Frame B - Lorentz transform with velocity v = {vel}c\")\n",
    "t_prime, x_prime = rl.lorentz_transform_1d(t2, x2, vel * rl.c)\n",
    "interval_s_prime = rl.spacetime_interval_1d((t1, x1), (t_prime, x_prime))\n",
    "print(\n",
    "    f\"Separation {rl.format_mpf(t_prime)} seconds in time and {rl.format_mpf(x_prime / mp.mpf(1000), 0)} km apart\"\n",
    ")\n",
    "print(f\"Interval squared after transform: {rl.format_mpf(interval_s_prime, 1)}\")"
   ]
  },
  {
   "cell_type": "markdown",
   "id": "69b0af21",
   "metadata": {},
   "source": [
    "So in frame A these two events separated by 5 seconds and 3 million kilometers. In Frame B the coordinates get mixed by the Lorentz transformation:\n",
    "\n",
    "$$\\Delta t’ = \\gamma(\\Delta t - \\frac{v \\Delta x}{c^2})$$\n",
    "\n",
    "$$\\Delta x’ = \\gamma(\\Delta x - v \\Delta t)$$\n",
    "\n",
    "In this case, with v = 0.99c, the moving frame perceives:\n",
    "- A larger spatial separation, because the second event happens not just far away but also earlier in Frame B’s clock — so the first event “had time to move” before the second one occurs.\n",
    "- A negative time separation, indicating the events occurred in reverse order in Frame B (since they are space-like separated and simultaneity is relative).\n",
    "\n",
    "\n",
    "## Conclusion\n",
    "\n",
    "Instead of fixed separations in space and time separately, in special relativity we have fixed *spacetime intervals*, fulfilling the same role.\n",
    "\n",
    "https://en.wikipedia.org/wiki/Spacetime#Spacetime_interval"
   ]
  }
 ],
 "metadata": {
  "kernelspec": {
   "display_name": ".venv",
   "language": "python",
   "name": "python3"
  },
  "language_info": {
   "codemirror_mode": {
    "name": "ipython",
    "version": 3
   },
   "file_extension": ".py",
   "mimetype": "text/x-python",
   "name": "python",
   "nbconvert_exporter": "python",
   "pygments_lexer": "ipython3",
   "version": "3.13.4"
  }
 },
 "nbformat": 4,
 "nbformat_minor": 5
}
