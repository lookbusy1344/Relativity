{
 "cells": [
  {
   "cell_type": "markdown",
   "id": "89a22ac5",
   "metadata": {},
   "source": [
    "# Spacetime Intervals\n",
    "\n",
    "[![Open In Colab](https://colab.research.google.com/assets/colab-badge.svg)](https://colab.research.google.com/github/lookbusy1344/Relativity/blob/main/Python/Spacetime%20interval.ipynb)\n",
    "\n",
    "## In classical physics, distance is independent of time\n",
    "\n",
    "In classical physics, the distance between two points in space is given by the Pythagorean theorem, and is independent of time. The distance $d$ between two points in a three-dimensional space with coordinates $(x_1, y_1, z_1)$ and $(x_2, y_2, z_2)$ is given by:\n",
    "\n",
    "$$d = \\sqrt{\\Delta x^2 + \\Delta y^2 + \\Delta z^2}$$\n",
    "\n",
    "For example, if we have two points in space with coordinates $(1, 2, 3)$ and $(4, 5, 6)$, the distance between them is:\n",
    "\n",
    "$$d = \\sqrt{(4 - 1)^2 + (5 - 2)^2 + (6 - 3)^2} = \\sqrt{3^2 + 3^2 + 3^2} = \\sqrt{27} = 3\\sqrt{3} \\approx 5.196$$\n",
    "\n",
    "## In special relativity, space and time are intertwined\n",
    "\n",
    "In *special relativity*, distances and time can vary according to the observer's frame of reference. Two events might be 1 metre apart from one frame, but 10 metres apart in a different frame. To account for this, we need a new way of measuring distances (intervals) that incorporates both space and time. *Spacetime intervals* combine both spatial and temporal dimensions and do not depend on the observer's motion. Two events will always have the same spacetime interval, even though the spacial and temporal distances may differ for different observers.\n",
    "\n",
    "The *spacetime interval squared* $\\Delta s^2$ between two events is:\n",
    "\n",
    "$$\n",
    "\\Delta s^2 = c^2 \\Delta t^2 - \\Delta x^2 - \\Delta y^2 - \\Delta z^2\n",
    "$$\n",
    "\n",
    "where $c$ is the speed of light, $\\Delta t$ is the time difference, and $\\Delta x$, $\\Delta y$, $\\Delta z$ are the spatial differences.\n",
    "\n",
    "3 types of spacetime intervals can be defined based on the sign of $\\Delta s^2$:\n",
    "- *Time-like*: $\\Delta s^2 > 0$ (events can be causally connected, separation is primarily in time)\n",
    "- *Space-like*: $\\Delta s^2 < 0$ (events cannot influence each other, separation is primarily in space)\n",
    "- *Light-like (null)*: $\\Delta s^2 = 0$ (events connected by light signals)\n",
    "\n",
    "## Making it simpler, 1-D space\n",
    "\n",
    "To simplify the math, instead of 3 spacial dimensions ($x, y, z$) and time, we can use only 1 spatial dimension ($x$) and time ($t$). All spacial coordinates appear on a 1-D line. The spacetime interval can then be expressed as:\n",
    "\n",
    "$$\\Delta s^2 = c^2 \\Delta t^2 - \\Delta x^2$$\n",
    "\n",
    "## Example Calculation"
   ]
  },
  {
   "cell_type": "code",
   "execution_count": 7,
   "id": "e1f160d6",
   "metadata": {},
   "outputs": [
    {
     "name": "stdout",
     "output_type": "stream",
     "text": [
      "Rest frame  : time interval = 5.0, space interval = 3.0, interval squared = 16.000\n",
      "Moving frame: time interval = 4.041, space interval = 0.577, interval squared = 16.000\n"
     ]
    }
   ],
   "source": [
    "import math\n",
    "\n",
    "\n",
    "def spacetime_interval_1d(t1: float, x1: float, t2: float, x2: float) -> float:\n",
    "    \"\"\"\n",
    "    Return s^2 for two events in 1+1D Minkowski space (c=1).\n",
    "\n",
    "    Parameters:\n",
    "        t1 (float): Time coordinate of the first event, in seconds\n",
    "        x1 (float): Space coordinate of the first event, in meters\n",
    "        t2 (float): Time coordinate of the second event, in seconds\n",
    "        x2 (float): Space coordinate of the second event, in meters\n",
    "\n",
    "    Returns:\n",
    "        float: The invariant spacetime interval s^2 between the two events\n",
    "        s^2 = (t2 - t1)^2 - (x2 - x1)^2\n",
    "    \"\"\"\n",
    "    dt= t2 - t1 # Time difference\n",
    "    dx = x2 - x1 # Space difference\n",
    "    return dt**2 - dx**2\n",
    "\n",
    "\n",
    "def lorentz_transform_1d(t: float, x: float, v: float) -> tuple[float, float]:\n",
    "    \"\"\"\n",
    "    Apply the Lorentz transformation for 1+1D spacetime.\n",
    "    This transforms coordinates from a rest frame to a moving frame with relative velocity v.\n",
    "\n",
    "    Parameters:\n",
    "    t (float): Time in rest frame, in seconds\n",
    "    x (float): Position in rest frame, in meters\n",
    "    v (float): Velocity of moving frame, fraction of c\n",
    "\n",
    "    Returns:\n",
    "    tuple: (t', x') in the moving frame\n",
    "    \"\"\"\n",
    "    gamma = 1 / math.sqrt(1 - v**2)\n",
    "    t_prime = gamma * (t - v * x)\n",
    "    x_prime = gamma * (x - v * t)\n",
    "    return t_prime, x_prime\n",
    "\n",
    "\n",
    "# Rest frame\n",
    "t, x = 5.0, 3.0\n",
    "interval_s = spacetime_interval_1d(0, 0, t, x)\n",
    "\n",
    "# Moving frame with v = 0.5 (50% of the speed of light)\n",
    "v = 0.5\n",
    "t_prime, x_prime = lorentz_transform_1d(t, x, v)\n",
    "interval_s_prime = spacetime_interval_1d(0, 0, t_prime, x_prime)\n",
    "\n",
    "print(f\"Rest frame  : time interval = {t}, space interval = {x}, interval squared = {interval_s:.3f}\")\n",
    "print(\n",
    "    f\"Moving frame: time interval = {t_prime:.3f}, space interval = {x_prime:.3f}, interval squared = {interval_s_prime:.3f}\"\n",
    ")"
   ]
  },
  {
   "cell_type": "markdown",
   "id": "b5ab6f65",
   "metadata": {},
   "source": [
    "## Conclusion\n",
    "\n",
    "Instead of fixed separations in space and time separately, in special relativity we have fixed *spacetime intervals*, fulfilling the same role.\n",
    "\n",
    "https://en.wikipedia.org/wiki/Spacetime#Spacetime_interval"
   ]
  }
 ],
 "metadata": {
  "kernelspec": {
   "display_name": ".venv",
   "language": "python",
   "name": "python3"
  },
  "language_info": {
   "codemirror_mode": {
    "name": "ipython",
    "version": 3
   },
   "file_extension": ".py",
   "mimetype": "text/x-python",
   "name": "python",
   "nbconvert_exporter": "python",
   "pygments_lexer": "ipython3",
   "version": "3.13.4"
  }
 },
 "nbformat": 4,
 "nbformat_minor": 5
}
