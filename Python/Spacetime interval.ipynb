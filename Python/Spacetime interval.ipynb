{
 "cells": [
  {
   "cell_type": "markdown",
   "id": "89a22ac5",
   "metadata": {},
   "source": [
    "# Spacetime Intervals\n",
    "\n",
    "[![Open In Colab](https://colab.research.google.com/assets/colab-badge.svg)](https://colab.research.google.com/github/lookbusy1344/Relativity/blob/main/Python/Spacetime%20Interval.ipynb)\n",
    "\n",
    "In classical physics, the distance between two points in space is given by the Pythagorean theorem, and is independent of time. The distance $d$ between two points in a three-dimensional space with coordinates $(x_1, y_1, z_1)$ and $(x_2, y_2, z_2)$ is given by:\n",
    "\n",
    "$$d = \\sqrt{(x_2 - x_1)^2 + (y_2 - y_1)^2 + (z_2 - z_1)^2}$$\n",
    "\n",
    "In special relativity, distances and time can vary according to the observer's frame of reference. To account for this, we introduce the concept of *spacetime intervals*, which combine both spatial and temporal dimensions and do not depend on the observer's motion.\n",
    "\n",
    "The *spacetime interval* $\\Delta s$ between two events is:\n",
    "\n",
    "$$\n",
    "\\Delta s = \\sqrt{c^2 \\Delta t^2 - \\Delta x^2 - \\Delta y^2 - \\Delta z^2}\n",
    "$$\n",
    "\n",
    "where $c$ is the speed of light, $\\Delta t$ is the time difference, and $\\Delta x$, $\\Delta y$, $\\Delta z$ are the spatial differences.\n",
    "\n",
    "TODO"
   ]
  },
  {
   "cell_type": "markdown",
   "id": "b5ab6f65",
   "metadata": {},
   "source": [
    "## Conclusion\n",
    "\n",
    "Instead of fixed separations in space and time separately, in special relativity we have fixed *spacetime intervals*, fulfilling the same role.\n",
    "\n",
    "https://en.wikipedia.org/wiki/Spacetime#Spacetime_interval"
   ]
  }
 ],
 "metadata": {
  "kernelspec": {
   "display_name": ".venv",
   "language": "python",
   "name": "python3"
  },
  "language_info": {
   "name": "python",
   "version": "3.12.10"
  }
 },
 "nbformat": 4,
 "nbformat_minor": 5
}
