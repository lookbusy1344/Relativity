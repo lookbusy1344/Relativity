{
 "cells": [
  {
   "cell_type": "markdown",
   "metadata": {},
   "source": [
    "# Rapidity\n",
    "\n",
    "*Rapidity* is useful for working with relativistic velocities. It's a linear function of velocity, so you can add rapidities then convert back to velocity.\n",
    "\n",
    "Rapidity is defined as:\n",
    "\n",
    "\\begin{equation}\n",
    "\\phi = \\tanh^{-1} \\left( \\frac{v}{c} \\right) \\tag{1}\n",
    "\\end{equation}\n",
    "\n",
    "Adding two rapidities is straightforward:\n",
    "\n",
    "\\begin{equation}\n",
    "\\phi_{\\text{combined}} = \\phi_1 + \\phi_2 \\tag{2}\n",
    "\\end{equation}\n",
    "\n",
    "Convert the sum back to velocity:\n",
    "\n",
    "\\begin{equation}\n",
    "v = c \\tanh(\\phi_{\\text{combined}}) \\tag{3}\n",
    "\\end{equation}\n",
    "\n",
    "For more details see https://en.wikipedia.org/wiki/Rapidity\n",
    "\n",
    "### Here's a simple example to illustrate the concept, using the Python library:"
   ]
  },
  {
   "cell_type": "code",
   "execution_count": 65,
   "metadata": {},
   "outputs": [
    {
     "name": "stdout",
     "output_type": "stream",
     "text": [
      "299000000 m/s + 200000000 m/s = 299634062.1103876614430598240498658666172074467629163770200247909660180248789660634207065622793954775 m/s\n"
     ]
    }
   ],
   "source": [
    "from mpmath import mp\n",
    "import relativity_lib as rl\n",
    "\n",
    "rl.configure(100)  # configure for 100 decimal places\n",
    "\n",
    "velocity1 = 299_000_000  # m/s\n",
    "velocity2 = 200_000_000  # m/s\n",
    "\n",
    "# convert to rapidity\n",
    "rapidity1 = rl.rapidity_from_velocity(velocity1)\n",
    "rapidity2 = rl.rapidity_from_velocity(velocity2)\n",
    "\n",
    "# add rapidities\n",
    "rapidity_combined = rapidity1 + rapidity2\n",
    "\n",
    "# convert back to velocity\n",
    "total_velocity = rl.velocity_from_rapidity(rapidity_combined)\n",
    "\n",
    "# print the result\n",
    "print(f\"{velocity1} m/s + {velocity2} m/s = {total_velocity} m/s\")"
   ]
  },
  {
   "cell_type": "markdown",
   "metadata": {},
   "source": [
    "## Getting things ready"
   ]
  },
  {
   "cell_type": "code",
   "execution_count": 66,
   "metadata": {},
   "outputs": [],
   "source": [
    "from prettytable import PrettyTable, TableStyle\n",
    "from IPython.display import Markdown\n",
    "\n",
    "rl.configure(100)  # configure for 100 decimal places\n",
    "\n",
    "table = PrettyTable(\n",
    "    [\n",
    "        \"Velocity 1\",\n",
    "        \"Velocity 2\",\n",
    "        \"Naive add (incorrect)\",\n",
    "        \"Rapidity 1\",\n",
    "        \"Rapidity 2\",\n",
    "        \"Rap1 + Rap2\",\n",
    "        \"Final Velocity\",\n",
    "        \"Fraction of c\",\n",
    "    ]\n",
    ")\n",
    "table.set_style(TableStyle.MARKDOWN)\n",
    "table.align = \"r\"\n",
    "\n",
    "\n",
    "def add_vel(velocity1, velocity2) -> None:\n",
    "    velocity1 = rl.check_velocity(velocity1)\n",
    "    velocity2 = rl.check_velocity(velocity2)\n",
    "\n",
    "    # convert to rapidity\n",
    "    rapidity1 = rl.rapidity_from_velocity(velocity1)\n",
    "    rapidity2 = rl.rapidity_from_velocity(velocity2)\n",
    "\n",
    "    # add rapidities, just a straight forward addition\n",
    "    added_rapidity = rapidity1 + rapidity2\n",
    "\n",
    "    # convert back to velocity\n",
    "    final_velocity = rl.velocity_from_rapidity(added_rapidity)\n",
    "\n",
    "    # format the results\n",
    "    fmt_naive = rl.format_mpf(velocity1 + velocity2, 0)\n",
    "    fmt_rap1 = rl.format_mpf_significant(rapidity1, 2)\n",
    "    fmt_rap2 = rl.format_mpf_significant(rapidity2, 2)\n",
    "    fmt_added_rap = rl.format_mpf_significant(added_rapidity, 4)\n",
    "    fmt_final = rl.format_mpf_significant(final_velocity, 2, \"9\")\n",
    "    fmt_c = rl.format_mpf_significant(final_velocity / rl.c, 2, \"9\")\n",
    "\n",
    "    # add to the table\n",
    "    table.add_row(\n",
    "        [\n",
    "            velocity1,\n",
    "            velocity2,\n",
    "            fmt_naive,\n",
    "            fmt_rap1,\n",
    "            fmt_rap2,\n",
    "            fmt_added_rap,\n",
    "            fmt_final,\n",
    "            fmt_c,\n",
    "        ]\n",
    "    )"
   ]
  },
  {
   "cell_type": "markdown",
   "metadata": {},
   "source": [
    "## Putting it into practice\n",
    "\n",
    "Now we add various velocities using rapidity. Notice the difference between high and low speeds:"
   ]
  },
  {
   "cell_type": "code",
   "execution_count": 67,
   "metadata": {},
   "outputs": [
    {
     "data": {
      "text/markdown": [
       "|               Velocity 1 |                     Velocity 2 | Naive add (incorrect) |  Rapidity 1 |  Rapidity 2 |  Rap1 + Rap2 |                                           Final Velocity |                                           Fraction of c |\n",
       "|------------------------: |------------------------------: |---------------------: |-----------: |-----------: |------------: |--------------------------------------------------------: |-------------------------------------------------------: |\n",
       "|                     10.0 |                           20.0 |                    30 | 0.000000033 | 0.000000066 | 0.0000001000 |                                       29.999999999999933 |                                                    0.00 |\n",
       "|                1000000.0 |                      1000000.0 |             2,000,000 |      0.0033 |      0.0033 |     0.006671 |                                             1,999,977.74 |                                                    0.00 |\n",
       "|               10000000.0 |                     10000000.0 |            20,000,000 |       0.033 |       0.033 |      0.06673 |                                            19,977,771.73 |                                                    0.06 |\n",
       "|              100000000.0 |                    100000000.0 |           200,000,000 |        0.34 |        0.34 |       0.6936 |                                           179,975,072.54 |                                                    0.60 |\n",
       "|              200000000.0 |                    200000000.0 |           400,000,000 |        0.80 |        0.80 |       1.6111 |                                           276,805,111.06 |                                                   0.923 |\n",
       "|              299792457.9 |                  299792457.999 |           599,584,915 |       11.25 |       13.55 |      24.8169 |                               299,792,457.99999999999983 |                               0.99999999999999999999944 |\n",
       "|           299792457.9999 |       299792457.99999999999999 |           599,584,915 |       14.71 |       26.22 |      40.9350 |                 299,792,457.9999999999999999999999999983 |                 0.9999999999999999999999999999999999944 |\n",
       "| 299792457.99999999999999 | 299792457.99999999999999999999 |           599,584,915 |       26.22 |       33.13 |      59.3556 | 299,792,457.99999999999999999999999999999999999999999983 | 0.99999999999999999999999999999999999999999999999999944 |"
      ],
      "text/plain": [
       "<IPython.core.display.Markdown object>"
      ]
     },
     "metadata": {},
     "output_type": "display_data"
    }
   ],
   "source": [
    "add_vel(10, 20)\n",
    "add_vel(\"1000000\", \"1000000\")\n",
    "add_vel(\"10000000\", \"10000000\")\n",
    "add_vel(\"100000000\", \"100000000\")\n",
    "add_vel(\"200000000\", \"200000000\")\n",
    "add_vel(\"299792457.9\", \"299792457.999\")\n",
    "add_vel(\"299792457.9999\", \"299792457.99999999999999\")\n",
    "add_vel(\"299792457.99999999999999\", \"299792457.99999999999999999999\")\n",
    "\n",
    "markdown_table = table.get_string()\n",
    "display(Markdown(markdown_table))"
   ]
  },
  {
   "cell_type": "markdown",
   "metadata": {},
   "source": [
    "## Plotting rapidity and velocity"
   ]
  },
  {
   "cell_type": "code",
   "execution_count": 68,
   "metadata": {},
   "outputs": [
    {
     "data": {
      "image/png": "[encoded data removed]",
      "text/plain": [
       "<Figure size 1000x600 with 1 Axes>"
      ]
     },
     "metadata": {},
     "output_type": "display_data"
    }
   ],
   "source": [
    "import matplotlib.pyplot as plt\n",
    "import numpy as np\n",
    "\n",
    "# Define the rapidities from 0.5 to 10 in steps of 0.2\n",
    "rapidities = np.arange(0.5, 10.2, 0.2)\n",
    "\n",
    "# Calculate the corresponding velocities and fractions of c\n",
    "velocities = [rl.velocity_from_rapidity(r) for r in rapidities]\n",
    "fractions_of_c = [v / rl.c for v in velocities]\n",
    "\n",
    "# Plot the data\n",
    "plt.figure(figsize=(10, 6))\n",
    "plt.plot(rapidities, fractions_of_c, marker='o', linestyle='-', color='b')\n",
    "plt.xlabel('Rapidity')\n",
    "plt.ylabel('Velocity as a fraction of c')\n",
    "plt.title('Increasing Rapidities and Corresponding Velocities')\n",
    "plt.grid(True)\n",
    "plt.show()"
   ]
  }
 ],
 "metadata": {
  "kernelspec": {
   "display_name": "Python 3",
   "language": "python",
   "name": "python3"
  },
  "language_info": {
   "codemirror_mode": {
    "name": "ipython",
    "version": 3
   },
   "file_extension": ".py",
   "mimetype": "text/x-python",
   "name": "python",
   "nbconvert_exporter": "python",
   "pygments_lexer": "ipython3",
   "version": "3.12.8"
  }
 },
 "nbformat": 4,
 "nbformat_minor": 2
}
