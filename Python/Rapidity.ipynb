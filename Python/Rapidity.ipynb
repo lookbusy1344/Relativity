{
 "cells": [
  {
   "cell_type": "markdown",
   "metadata": {},
   "source": [
    "# Rapidity\n",
    "\n",
    "*Rapidity* is useful for working with relativistic velocities. It's a linear function of velocity, so you can add rapidities then convert back to velocity.\n",
    "\n",
    "Rapidity is defined as:\n",
    "\n",
    "\\begin{equation}\n",
    "\\phi = \\tanh^{-1} \\left( \\frac{v}{c} \\right) \\tag{1}\n",
    "\\end{equation}\n",
    "\n",
    "Adding two rapidities is straightforward:\n",
    "\n",
    "\\begin{equation}\n",
    "\\phi_{\\text{combined}} = \\phi_1 + \\phi_2 \\tag{2}\n",
    "\\end{equation}\n",
    "\n",
    "Convert the sum back to velocity:\n",
    "\n",
    "\\begin{equation}\n",
    "v = c \\tanh(\\phi_{\\text{combined}}) \\tag{3}\n",
    "\\end{equation}\n",
    "\n",
    "Here's how you can use it using the Python library:\n",
    "\n",
    "```python\n",
    "    import relativity_lib as rl\n",
    "\n",
    "    rapidity1 = rl.rapid_from_velocity(v1)\n",
    "    rapidity2 = rl.rapid_from_velocity(v2)\n",
    "\n",
    "    rap_combined = rapidity1 + rapidity2 # just add them normally\n",
    "\n",
    "    total_velocity = rl.velocity_from_rapidity(rap_combined)\n",
    "```\n",
    "\n",
    "For more details see https://en.wikipedia.org/wiki/Rapidity"
   ]
  },
  {
   "cell_type": "code",
   "execution_count": 1,
   "metadata": {},
   "outputs": [],
   "source": [
    "from mpmath import mp\n",
    "import relativity_lib as rl\n",
    "\n",
    "# use 100 decimal places\n",
    "rl.configure(100)\n",
    "\n",
    "\n",
    "def add_vel(velocity1, velocity2) -> None:\n",
    "    velocity1 = rl.check_velocity(velocity1)\n",
    "    velocity2 = rl.check_velocity(velocity2)\n",
    "\n",
    "    # convert to rapidity\n",
    "    rapidity1 = rl.rapidity_from_velocity(velocity1)\n",
    "    rapidity2 = rl.rapidity_from_velocity(velocity2)\n",
    "\n",
    "    # add rapidities, just a straight forward addition\n",
    "    added_rapidity = rapidity1 + rapidity2\n",
    "\n",
    "    # convert back to velocity\n",
    "    final_velocity = rl.velocity_from_rapidity(added_rapidity)\n",
    "\n",
    "    # discrepancy between relativistic and naive addition\n",
    "    discrepancy = (velocity1 + velocity2) - final_velocity\n",
    "\n",
    "    # display results\n",
    "    print(f\"Velocity 1    : {rl.format_mpf(velocity1, -1)} m/s\")\n",
    "    print(f\"Velocity 2    : {rl.format_mpf(velocity2, -1)} m/s\")\n",
    "    print(f\"Naive addition: {rl.format_mpf(velocity1 + velocity2, -1)} m/s (incorrect)\")\n",
    "    print(f\"Rapidity 1    : {rl.format_mpf(rapidity1, 50)}\")\n",
    "    print(f\"Rapidity 2    : {rl.format_mpf(rapidity2, 50)}\")\n",
    "    print(f\"Added rapidity: {rl.format_mpf(added_rapidity, 50)}\")\n",
    "    print(f\"Added velocity: {rl.format_mpf_significant(final_velocity, 3, '9')} m/s\")\n",
    "    # print(f\"Discrepancy   : {rl.format_mpf(discrepancy, 3)} between relativistic and naive addition\")\n",
    "    print()"
   ]
  },
  {
   "cell_type": "markdown",
   "metadata": {},
   "source": [
    "## Putting it into practice"
   ]
  },
  {
   "cell_type": "code",
   "execution_count": 2,
   "metadata": {},
   "outputs": [
    {
     "name": "stdout",
     "output_type": "stream",
     "text": [
      "Velocity 1    : 299,792,457.9999876 m/s\n",
      "Velocity 2    : 299,792,457.9999999123 m/s\n",
      "Naive addition: 599,584,915.9999875123 m/s (incorrect)\n",
      "Rapidity 1    : 15.75478112622918066147257781317923006015031072644830\n",
      "Rapidity 2    : 18.23054605233668636713838874475814647308584650992671\n",
      "Added rapidity: 33.98532717856586702861096655793737653323615723637502\n",
      "Added velocity: 299,792,457.99999999999999999999818 m/s\n",
      "\n",
      "Velocity 1    : 200,000,000.0 m/s\n",
      "Velocity 2    : 1,000,000.0 m/s\n",
      "Naive addition: 201,000,000.0 m/s (incorrect)\n",
      "Rapidity 1    : 0.80555015946574539227490367117883480604347637824718\n",
      "Rapidity 2    : 0.00333565332340108495475585444684102415283215855984\n",
      "Added rapidity: 0.80888581278914647722965952562567583019630853680703\n",
      "Added velocity: 200,553,707.811 m/s\n",
      "\n",
      "Velocity 1    : 1,000,000.0 m/s\n",
      "Velocity 2    : 1,000,000.0 m/s\n",
      "Naive addition: 2,000,000.0 m/s (incorrect)\n",
      "Rapidity 1    : 0.00333565332340108495475585444684102415283215855984\n",
      "Rapidity 2    : 0.00333565332340108495475585444684102415283215855984\n",
      "Added rapidity: 0.00667130664680216990951170889368204830566431711969\n",
      "Added velocity: 1,999,977.747 m/s\n",
      "\n",
      "Velocity 1    : 10.0 m/s\n",
      "Velocity 2    : 20.0 m/s\n",
      "Naive addition: 30.0 m/s (incorrect)\n",
      "Rapidity 1    : 0.00000003335640951981521732889464543744653918965840\n",
      "Rapidity 2    : 0.00000006671281903963050888581113481481942199211531\n",
      "Added rapidity: 0.00000010006922855944572621470578025226596118177372\n",
      "Added velocity: 29.9999999999999332 m/s\n",
      "\n"
     ]
    }
   ],
   "source": [
    "add_vel(\"299792457.9999876\", \"299792457.9999999123\")\n",
    "add_vel(\"200000000\", \"1000000\")\n",
    "add_vel(\"1000000\", \"1000000\")\n",
    "add_vel(10, 20)"
   ]
  }
 ],
 "metadata": {
  "kernelspec": {
   "display_name": "Python 3",
   "language": "python",
   "name": "python3"
  },
  "language_info": {
   "codemirror_mode": {
    "name": "ipython",
    "version": 3
   },
   "file_extension": ".py",
   "mimetype": "text/x-python",
   "name": "python",
   "nbconvert_exporter": "python",
   "pygments_lexer": "ipython3",
   "version": "3.12.8"
  }
 },
 "nbformat": 4,
 "nbformat_minor": 2
}
