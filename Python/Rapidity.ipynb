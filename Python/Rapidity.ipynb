{
 "cells": [
  {
   "cell_type": "markdown",
   "metadata": {},
   "source": [
    "# Rapidity\n",
    "\n",
    "*Rapidity* is useful for working with relativistic velocities. It's a linear function of velocity, so you can add rapidities then convert back to velocity.\n",
    "\n",
    "Rapidity is defined as:\n",
    "\n",
    "\\begin{equation}\n",
    "\\phi = \\tanh^{-1} \\left( \\frac{v}{c} \\right) \\tag{1}\n",
    "\\end{equation}\n",
    "\n",
    "Adding two rapidities is straightforward:\n",
    "\n",
    "\\begin{equation}\n",
    "\\phi_{\\text{combined}} = \\phi_1 + \\phi_2 \\tag{2}\n",
    "\\end{equation}\n",
    "\n",
    "Convert the sum back to velocity:\n",
    "\n",
    "\\begin{equation}\n",
    "v = c \\tanh(\\phi_{\\text{combined}}) \\tag{3}\n",
    "\\end{equation}\n",
    "\n",
    "For more details see https://en.wikipedia.org/wiki/Rapidity\n",
    "\n",
    "### Here's a simple example to illustrate the concept, using the Python library:"
   ]
  },
  {
   "cell_type": "code",
   "execution_count": 10,
   "metadata": {},
   "outputs": [
    {
     "name": "stdout",
     "output_type": "stream",
     "text": [
      "299000000 m/s + 200000000 m/s = 299634062.1103876614430598240498658666172074467629163770200247909660180248789660634207065622793954775 m/s\n"
     ]
    }
   ],
   "source": [
    "from mpmath import mp\n",
    "import relativity_lib as rl\n",
    "\n",
    "rl.configure(100) # configure for 100 decimal places\n",
    "\n",
    "velocity1 = 299_000_000 # m/s\n",
    "velocity2 = 200_000_000 # m/s\n",
    "\n",
    "# convert to rapidity\n",
    "rapidity1 = rl.rapidity_from_velocity(velocity1)\n",
    "rapidity2 = rl.rapidity_from_velocity(velocity2)\n",
    "\n",
    "# add rapidities\n",
    "rapidity_combined = rapidity1 + rapidity2\n",
    "\n",
    "# convert back to velocity\n",
    "total_velocity = rl.velocity_from_rapidity(rapidity_combined)\n",
    "\n",
    "# print the result\n",
    "print(f\"{velocity1} m/s + {velocity2} m/s = {total_velocity} m/s\")"
   ]
  },
  {
   "cell_type": "markdown",
   "metadata": {},
   "source": [
    "## Getting things ready"
   ]
  },
  {
   "cell_type": "code",
   "execution_count": 11,
   "metadata": {},
   "outputs": [],
   "source": [
    "rl.configure(100) # configure for 100 decimal places\n",
    "\n",
    "def add_vel(velocity1, velocity2) -> None:\n",
    "    velocity1 = rl.check_velocity(velocity1)\n",
    "    velocity2 = rl.check_velocity(velocity2)\n",
    "\n",
    "    # convert to rapidity\n",
    "    rapidity1 = rl.rapidity_from_velocity(velocity1)\n",
    "    rapidity2 = rl.rapidity_from_velocity(velocity2)\n",
    "\n",
    "    # add rapidities, just a straight forward addition\n",
    "    added_rapidity = rapidity1 + rapidity2\n",
    "\n",
    "    # convert back to velocity\n",
    "    final_velocity = rl.velocity_from_rapidity(added_rapidity)\n",
    "\n",
    "    # discrepancy between relativistic and naive addition\n",
    "    discrepancy = (velocity1 + velocity2) - final_velocity\n",
    "\n",
    "    # display results\n",
    "    print(f\"Velocity 1    : {rl.format_mpf(velocity1, -1)} m/s\")\n",
    "    print(f\"Velocity 2    : {rl.format_mpf(velocity2, -1)} m/s\")\n",
    "    print(f\"Naive addition: {rl.format_mpf(velocity1 + velocity2, -1)} m/s (incorrect)\")\n",
    "    print(f\"Rapidity 1    : {rl.format_mpf(rapidity1, 50)}\")\n",
    "    print(f\"Rapidity 2    : {rl.format_mpf(rapidity2, 50)}\")\n",
    "    print(f\"Added rapidity: {rl.format_mpf(added_rapidity, 50)}\")\n",
    "    print(f\"Added velocity: {rl.format_mpf_significant(final_velocity, 3, '9')} m/s\")\n",
    "    # print(f\"Discrepancy   : {rl.format_mpf(discrepancy, 3)} between relativistic and naive addition\")\n",
    "    print()"
   ]
  },
  {
   "cell_type": "markdown",
   "metadata": {},
   "source": [
    "## Putting it into practice\n",
    "\n",
    "Now we add various velocities using rapidity. Notice the difference between high and low speeds:"
   ]
  },
  {
   "cell_type": "code",
   "execution_count": 12,
   "metadata": {},
   "outputs": [
    {
     "name": "stdout",
     "output_type": "stream",
     "text": [
      "Velocity 1    : 10.0 m/s\n",
      "Velocity 2    : 20.0 m/s\n",
      "Naive addition: 30.0 m/s (incorrect)\n",
      "Rapidity 1    : 0.00000003335640951981521732889464543744653918965840\n",
      "Rapidity 2    : 0.00000006671281903963050888581113481481942199211531\n",
      "Added rapidity: 0.00000010006922855944572621470578025226596118177372\n",
      "Added velocity: 29.9999999999999332 m/s\n",
      "\n",
      "Velocity 1    : 1,000,000.0 m/s\n",
      "Velocity 2    : 1,000,000.0 m/s\n",
      "Naive addition: 2,000,000.0 m/s (incorrect)\n",
      "Rapidity 1    : 0.00333565332340108495475585444684102415283215855984\n",
      "Rapidity 2    : 0.00333565332340108495475585444684102415283215855984\n",
      "Added rapidity: 0.00667130664680216990951170889368204830566431711969\n",
      "Added velocity: 1,999,977.747 m/s\n",
      "\n",
      "Velocity 1    : 200,000,000.0 m/s\n",
      "Velocity 2    : 1,000,000.0 m/s\n",
      "Naive addition: 201,000,000.0 m/s (incorrect)\n",
      "Rapidity 1    : 0.80555015946574539227490367117883480604347637824718\n",
      "Rapidity 2    : 0.00333565332340108495475585444684102415283215855984\n",
      "Added rapidity: 0.80888581278914647722965952562567583019630853680703\n",
      "Added velocity: 200,553,707.811 m/s\n",
      "\n",
      "Velocity 1    : 299,792,457.9 m/s\n",
      "Velocity 2    : 299,792,457.99 m/s\n",
      "Naive addition: 599,584,915.89 m/s (incorrect)\n",
      "Rapidity 1    : 11.25716662996618135848087680043095262153159000832580\n",
      "Rapidity 2    : 12.40845917653825612191634126115024368549048480503965\n",
      "Added rapidity: 23.66562580650443748039721806158119630702207481336545\n",
      "Added velocity: 299,792,457.99999999999833 m/s\n",
      "\n",
      "Velocity 1    : 299,792,457.9999 m/s\n",
      "Velocity 2    : 299,792,457.99999999999999 m/s\n",
      "Naive addition: 599,584,915.99989999999999 m/s (incorrect)\n",
      "Rapidity 1    : 14.71104426954055751729055651273604469079952388185260\n",
      "Rapidity 2    : 26.22396973451086932840430499202194251951829907478595\n",
      "Added rapidity: 40.93501400405142684569486150475798721031782295663856\n",
      "Added velocity: 299,792,457.99999999999999999999999999833 m/s\n",
      "\n"
     ]
    }
   ],
   "source": [
    "add_vel(10, 20)\n",
    "add_vel(\"1000000\", \"1000000\")\n",
    "add_vel(\"200000000\", \"1000000\")\n",
    "add_vel(\"299792457.9\", \"299792457.99\")\n",
    "add_vel(\"299792457.9999\", \"299792457.99999999999999\")"
   ]
  }
 ],
 "metadata": {
  "kernelspec": {
   "display_name": "Python 3",
   "language": "python",
   "name": "python3"
  },
  "language_info": {
   "codemirror_mode": {
    "name": "ipython",
    "version": 3
   },
   "file_extension": ".py",
   "mimetype": "text/x-python",
   "name": "python",
   "nbconvert_exporter": "python",
   "pygments_lexer": "ipython3",
   "version": "3.12.8"
  }
 },
 "nbformat": 4,
 "nbformat_minor": 2
}
