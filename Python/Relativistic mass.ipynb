{
 "cells": [
  {
   "cell_type": "markdown",
   "metadata": {},
   "source": [
    "# Relativistic Mass\n",
    "\n",
    "This concept suggests that an object's mass increases as its velocity approaches the speed of light. However, this idea is outdated in modern physics. Mass normally refers to *rest mass* or *proper mass*, which is constant.\n",
    "\n",
    "But lets explore the concept of relativistic mass in more depth.\n",
    "\n",
    "## Does an object's mass increase as its speed approaches c?\n",
    "\n",
    "### And is this effect what stops us accelerating to light speed?\n",
    "\n",
    "The answers here are 'not really' and 'no'!\n",
    "\n",
    "## Relativistic mass increase\n",
    "\n",
    "As objects speed up, their relativistic mass increases by the Lorentz factor (which also describes time dilation and length contraction). The Lorentz factor is given by:\n",
    "\n",
    "$$\\gamma = \\frac{1}{\\sqrt{1 - \\frac{v^2}{c^2}}}$$\n",
    "\n",
    "where $v$ is the relative velocity of the object and $c$ is the speed of light.\n",
    "\n",
    "Here we calculate the Lorentz factor for a range of velocities:\n"
   ]
  },
  {
   "cell_type": "code",
   "execution_count": 226,
   "metadata": {
    "trusted": false
   },
   "outputs": [
    {
     "name": "stdout",
     "output_type": "stream",
     "text": [
      "+------------------+-----------------+------------------------+-----------------------+--------------------------+\n",
      "|   Velocity (m/s) |         Lorentz | Relativistic mass (kg) | Time dilation (1 min) | Length contraction (1 m) |\n",
      "+------------------+-----------------+------------------------+-----------------------+--------------------------+\n",
      "|                0 |             1.0 |                    1.0 |                60.0 s |                 100.0 cm |\n",
      "|             1000 | 1.0000000000055 |         1.000000000005 |      60.00000000033 s |              99.99999 cm |\n",
      "|          1000000 |       1.0000055 |               1.000005 |            60.00033 s |              99.99944 cm |\n",
      "|        100000000 |           1.060 |                   1.06 |               63.64 s |              94.27274 cm |\n",
      "|        200000000 |            1.34 |                    1.3 |               80.54 s |              74.49429 cm |\n",
      "|        299000000 |           13.76 |                   13.7 |              825.74 s |               7.26617 cm |\n",
      "|    299492665.542 |           22.36 |                   22.3 |            1,341.97 s |               4.47101 cm |\n",
      "| 299792158.207542 |          707.10 |                  707.1 |           42,426.41 s |               0.14142 cm |\n",
      "+------------------+-----------------+------------------------+-----------------------+--------------------------+\n"
     ]
    }
   ],
   "source": [
    "import mpmath as mp\n",
    "import relativity_lib as rl\n",
    "import prettytable as pt\n",
    "\n",
    "# adjust these velocities to see the effects of relativity\n",
    "velocities = [\n",
    "    0,\n",
    "    1000,\n",
    "    1000000,\n",
    "    100000000,\n",
    "    200000000,\n",
    "    299000000,\n",
    "    rl.c_float * 0.999,\n",
    "    rl.c_float * 0.999999,\n",
    "]\n",
    "rest_mass = mp.mpf(1)\n",
    "\n",
    "rl.configure(100)\n",
    "minute = mp.mpf(60)\n",
    "table = pt.PrettyTable(\n",
    "    [\n",
    "        \"Velocity (m/s)\",\n",
    "        \"Lorentz\",\n",
    "        \"Relativistic mass (kg)\",\n",
    "        \"Time dilation (1 min)\",\n",
    "        \"Length contraction (1 m)\",\n",
    "    ]\n",
    ")\n",
    "table.align = \"r\"  # right align everything\n",
    "\n",
    "\n",
    "def add_row(v):\n",
    "    global rest_mass, table, minute\n",
    "\n",
    "    # work out the relativistic mass, time dilation and length contraction\n",
    "    gamma = rl.lorentz_factor(v)\n",
    "    relativistic_mass = rest_mass * gamma\n",
    "    time = minute * gamma\n",
    "    length = rl.one / gamma\n",
    "\n",
    "    # format the results\n",
    "    fmt_gamma = rl.format_mpf_significant(gamma, 2)\n",
    "    fmt_relativistic_mass = rl.format_mpf_significant(relativistic_mass, 1)\n",
    "    fmt_time = rl.format_mpf_significant(time, 2) + \" s\"\n",
    "    fmt_length = rl.format_mpf_significant(length * 100, 5) + \" cm\"\n",
    "\n",
    "    # add the results to the table\n",
    "    table.add_row([v, fmt_gamma, fmt_relativistic_mass, fmt_time, fmt_length])\n",
    "\n",
    "# run the calculations\n",
    "for v in velocities:\n",
    "    add_row(v)\n",
    "\n",
    "# print the table\n",
    "print(table)"
   ]
  },
  {
   "cell_type": "markdown",
   "metadata": {},
   "source": [
    "## However..\n",
    "\n",
    "Note that this increase is **frame dependent**. A 50kg object travelling at 0.999c will have the following relativistic mass when it hits the Earth:"
   ]
  },
  {
   "cell_type": "code",
   "execution_count": 227,
   "metadata": {
    "trusted": false
   },
   "outputs": [
    {
     "name": "stdout",
     "output_type": "stream",
     "text": [
      "Rest mass: 50.0 kg\n",
      "First velocity: 0.0c, second velocity: 0.999c\n",
      "Relative velocity: 0.999c\n",
      "Lorentz factor: 22.36\n",
      "Relativistic mass: 1,118.31 kg\n"
     ]
    }
   ],
   "source": [
    "# Work out relativistic mass of 50kg going at 0.999c\n",
    "rest_mass = mp.mpf(50)\n",
    "\n",
    "earth_velocity = 0.0\n",
    "ship_velocity = 0.999\n",
    "\n",
    "def calculate_relative_mass(vel1, vel2):\n",
    "    global rest_mass\n",
    "    relative_velocity_c = abs(vel2 - vel1)\n",
    "    gamma = rl.lorentz_factor(rl.c * relative_velocity_c)\n",
    "    relativistic_mass = rest_mass * gamma\n",
    "\n",
    "    print(f\"Rest mass: {rest_mass} kg\")\n",
    "    print(f\"First velocity: {vel1}c, second velocity: {vel2}c\")\n",
    "    print(f\"Relative velocity: {relative_velocity_c}c\")\n",
    "    print(f\"Lorentz factor: {rl.format_mpf(gamma, 2)}\")\n",
    "    print(f\"Relativistic mass: {rl.format_mpf(relativistic_mass, 2)} kg\")\n",
    "\n",
    "calculate_relative_mass(earth_velocity, ship_velocity)\n"
   ]
  },
  {
   "cell_type": "markdown",
   "metadata": {},
   "source": [
    "But that's because the **relative velocity** between the object and Earth is 0.999c.\n",
    "\n",
    "In the object's own frame (like on a spaceship moving with it), there is no relative motion. Its Lorentz factor is 1 and its relativistic mass is just:"
   ]
  },
  {
   "cell_type": "code",
   "execution_count": 228,
   "metadata": {
    "trusted": false
   },
   "outputs": [
    {
     "name": "stdout",
     "output_type": "stream",
     "text": [
      "Rest mass: 50.0 kg\n",
      "First velocity: 0.999c, second velocity: 0.999c\n",
      "Relative velocity: 0.0c\n",
      "Lorentz factor: 1.00\n",
      "Relativistic mass: 50.00 kg\n"
     ]
    }
   ],
   "source": [
    "# save frame of reference, whats the relativistic mass here?\n",
    "object_velocity = 0.999\n",
    "ship_velocity = 0.999\n",
    "\n",
    "calculate_relative_mass(object_velocity, ship_velocity)\n"
   ]
  },
  {
   "cell_type": "markdown",
   "metadata": {},
   "source": [
    "The relativistic mass is the same as the rest mass!\n",
    "\n",
    "Lets consider a third frame of reference, this time an object travelling at 0.5c which the 0.999c object collides with:"
   ]
  },
  {
   "cell_type": "code",
   "execution_count": 229,
   "metadata": {},
   "outputs": [
    {
     "name": "stdout",
     "output_type": "stream",
     "text": [
      "Rest mass: 50.0 kg\n",
      "First velocity: 0.999c, second velocity: 0.5c\n",
      "Relative velocity: 0.499c\n",
      "Lorentz factor: 1.15\n",
      "Relativistic mass: 57.69 kg\n"
     ]
    }
   ],
   "source": [
    "object_velocity = 0.999\n",
    "mid_velocity = 0.5\n",
    "\n",
    "calculate_relative_mass(object_velocity, mid_velocity)\n"
   ]
  },
  {
   "cell_type": "markdown",
   "metadata": {},
   "source": [
    "The relativistic mass is different again! Depending on your point of view, it seems to be:\n",
    "\n",
    "- 50 kg\n",
    "- 57.69 kg\n",
    "- 1,118.31 kg\n",
    "\n",
    "## But how can it have three relativistic masses at once?\n",
    "\n",
    "This is the key concept. In 10 different frames of reference, an object will have 10 different relativistic masses **simultaneously**. None of them is more real that the others.\n",
    "\n",
    "This is why physicists say \"relativistic mass\" is misleading.\n",
    "\n",
    "### So what do you get when you weigh the object travelling at 0.999c (measure its mass)?\n",
    "\n",
    "The scale is in the same frame as the object, so the Lorentz factor is 1 and the measured mass is just the rest mass. It weighs 1kg regardless of its velocity towards the Earth, or any other object.\n",
    "\n",
    "## Lorentz factors are always between 2 specific frames\n",
    "\n",
    "For example, the Earth and the ship.\n",
    "\n",
    "Whenever you use a Lorentz factor you know you are calculating something frame dependent. This includes:\n",
    "\n",
    "- Time dilation\n",
    "- Length contraction\n",
    "- Relativistic energy and mass\n",
    "\n",
    "All these effects have multiple values simultaneously, according to the frames you choose to consider. Time may slow down by 10% in one frame, but its slowed by 50% and 99% in other frames you could choose.\n",
    "\n",
    "# Particle accelerators and light sails\n",
    "\n",
    "If you are accelerating something in a different reference frame, like a particle accelerator moving protons, or a Earth-based laser shining on a ship with a light sail, relativistic mass does indeed come into play. At the object speeds up (relative to the accelerator) the Lorentz factor increases, and it gets harder to accelerate.\n",
    "\n",
    "It would require infinite energy or time to accelerate it to c.\n",
    "\n",
    "# Ship's engines\n",
    "\n",
    "This is very different.\n",
    "\n",
    "The engines and fuel (and you the captain) are all moving together. Your velocity relative to the engines always remains 0. It doesn't matter that you and the ship may be travelling at 0.999c from a particular frame, you can't discover that while on board (unless you look to see how fast the Earth is approaching, and then it could be the Earth thats moving and not you).\n",
    "\n",
    "## No absolute motion, it's all relative\n",
    "\n",
    "When not accelerating, all inertial frames are equivalent. There is no test you can perform to find your \"true\" velocity, you are essentially stationary.\n",
    "\n",
    "This is the case whether your speed is 0 or 0.999c relative to Earth.\n",
    "\n",
    "Everything on board ship remains exactly the same. Its the outside universe (in a different frame) that changes.\n",
    "\n",
    "# So why can't we reach light speed? If it's not relativistic mass that stops us?\n",
    "\n",
    "Remember that all inertial frames are equivalent. You accelerate to 0.999c (relative to the Earth) and measure light speed...\n",
    "\n",
    "### ..and it's just as fast as always!\n",
    "\n",
    "You have made zero progress towards matching it, and you never will! This is why c is unique, its the same in all frames regardless of relative motion.\n",
    "\n",
    "299,792,458 metres per second\n",
    "\n",
    "## In your own frame you can accelerate forever\n",
    "\n",
    "So in your own frame, there is no universal speed limit. You can literally accelerate forever and cross the universe in a day (if the g-force didn't kill you).\n",
    "\n",
    "See the other notebook about a tour of the universe that takes just a few decades. You can travel over 100 billion light years in a human lifetime at 1g acceleration.\n",
    "\n",
    "## In a coordinate frame (eg Earth) constant proper acceleration seems to slow\n",
    "\n",
    "In a coordinate frame, your acceleration would seem to slow as your speed approaches c. Time on board ship would also slow to a standstill as you journeyed across the universe.\n",
    "\n",
    "(table of coordinate time, 1g acceleration and velocity)\n"
   ]
  },
  {
   "cell_type": "code",
   "execution_count": 230,
   "metadata": {
    "trusted": false
   },
   "outputs": [
    {
     "name": "stdout",
     "output_type": "stream",
     "text": [
      "In coordinate time under constant proper acceleration, the distance traveled in each year is:\n",
      "\n",
      "+-------------------------------+---------------------+---------+--------------------+\n",
      "| Coordinate time (year number) |       Additional km | Lorentz | 1 minute ship-time |\n",
      "+-------------------------------+---------------------+---------+--------------------+\n",
      "|                             1 | 4,007,115,677,439.6 |     1.4 |            86.23 s |\n",
      "|                             2 | 3,845,154,131,734.4 |     2.2 |           137.64 s |\n",
      "|                             3 |   948,774,306,887.1 |     3.2 |           195.26 s |\n",
      "|                             4 |   310,638,564,220.0 |     4.2 |           254.91 s |\n",
      "|                             5 |   134,730,061,290.0 |     5.2 |           315.44 s |\n",
      "|                             6 |    69,769,462,375.4 |     6.2 |           376.43 s |\n",
      "|                             7 |    40,609,437,928.3 |     7.2 |           437.69 s |\n",
      "|                             8 |    25,658,889,667.5 |     8.3 |           499.12 s |\n",
      "|                             9 |    17,225,822,072.0 |     9.3 |           560.65 s |\n",
      "|                            10 |    12,115,485,077.1 |    10.3 |           622.27 s |\n",
      "|                            11 |     8,841,078,250.3 |    11.3 |           683.95 s |\n",
      "|                            12 |     6,647,334,111.3 |    12.4 |           745.67 s |\n",
      "|                            13 |     5,122,993,385.5 |    13.4 |           807.42 s |\n",
      "|                            14 |     4,031,111,300.0 |    14.4 |           869.20 s |\n",
      "|                            15 |     3,228,633,478.0 |    15.5 |           931.00 s |\n",
      "|                            16 |     2,625,717,988.5 |    16.5 |           992.81 s |\n",
      "|                            17 |     2,164,008,880.9 |    17.5 |         1,054.64 s |\n",
      "|                            18 |     1,804,481,941.6 |    18.6 |         1,116.49 s |\n",
      "|                            19 |     1,520,368,872.3 |    19.6 |         1,178.34 s |\n",
      "|                            20 |     1,292,892,589.9 |    20.6 |         1,240.20 s |\n",
      "|                            21 |     1,108,617,325.4 |    21.7 |         1,302.07 s |\n",
      "|                            22 |       957,757,071.0 |    22.7 |         1,363.95 s |\n",
      "|                            23 |       833,069,495.7 |    23.7 |         1,425.83 s |\n",
      "|                            24 |       729,116,904.0 |    24.7 |         1,487.71 s |\n",
      "|                            25 |       641,762,722.1 |    25.8 |         1,549.60 s |\n",
      "|                            26 |       567,822,331.2 |    26.8 |         1,611.49 s |\n",
      "|                            27 |       504,817,001.2 |    27.8 |         1,673.39 s |\n",
      "|                            28 |       450,797,905.2 |    28.9 |         1,735.29 s |\n",
      "|                            29 |       404,218,539.2 |    29.9 |         1,797.19 s |\n",
      "|                            30 |       363,841,070.1 |    30.9 |         1,859.09 s |\n",
      "|                            31 |       328,666,789.7 |    32.0 |         1,921.00 s |\n",
      "|                            32 |       297,883,915.3 |    33.0 |         1,982.91 s |\n",
      "|                            33 |       270,828,014.8 |    34.0 |         2,044.82 s |\n",
      "|                            34 |       246,951,726.0 |    35.1 |         2,106.73 s |\n",
      "|                            35 |       225,801,381.7 |    36.1 |         2,168.65 s |\n",
      "|                            36 |       206,998,821.3 |    37.1 |         2,230.56 s |\n",
      "|                            37 |       190,227,127.3 |    38.2 |         2,292.48 s |\n",
      "|                            38 |       175,219,359.6 |    39.2 |         2,354.39 s |\n",
      "|                            39 |       161,749,597.8 |    40.2 |         2,416.31 s |\n",
      "+-------------------------------+---------------------+---------+--------------------+\n"
     ]
    }
   ],
   "source": [
    "# Using coordinate time, what distance is traveled in each year under proper constant acceleration\n",
    "\n",
    "accel = rl.g # 9.81 m/s^2\n",
    "minute = mp.mpf(60) # 1 minute in seconds\n",
    "\n",
    "# Used in the loop\n",
    "previous_total = mp.mpf(0)\n",
    "previous_year = mp.mpf(0)\n",
    "\n",
    "years = pt.PrettyTable([\"Coordinate time (year number)\", \"Additional km\", \"Lorentz\", \"1 minute ship-time\"])\n",
    "years.align = \"r\"  # right align everything\n",
    "\n",
    "for year in range(1, 40):\n",
    "    # work out total distance in coord time for journey of year duration\n",
    "    sec = mp.mpf(year) * rl.seconds_per_year\n",
    "    total_distance = rl.relativistic_distance_coord(accel, sec)\n",
    "\n",
    "    # work out the velocity (coord time) and lorentz factor\n",
    "    velocity = rl.relativistic_velocity_coord(accel, sec)\n",
    "    gamma = rl.lorentz_factor(velocity)\n",
    "\n",
    "    # time dilation factor\n",
    "    time_dilation = minute * gamma\n",
    "\n",
    "    # distance traveled in this year\n",
    "    this_year = total_distance - previous_total\n",
    "\n",
    "    # the increase this year\n",
    "    this_year_increase = this_year - previous_year\n",
    "\n",
    "    # update the previous values\n",
    "    previous_total = total_distance\n",
    "    previous_year = this_year\n",
    "\n",
    "    # format the results and add to table\n",
    "    fmt_this_year = rl.format_mpf(this_year_increase / 1000, 1)\n",
    "    fmt_gamma = rl.format_mpf(gamma, 1)\n",
    "    fmt_time = rl.format_mpf(time_dilation, 2) + \" s\"\n",
    "    years.add_row([year, fmt_this_year, fmt_gamma, fmt_time])\n",
    "\n",
    "print(\"In coordinate time under constant proper acceleration, the distance traveled in each year is:\")\n",
    "print()\n",
    "print(years)\n"
   ]
  },
  {
   "cell_type": "markdown",
   "metadata": {},
   "source": [
    "Notice how the extra distance travelled each year shrinks as the Lorentz factor increases even though the proper acceleration is constant."
   ]
  }
 ],
 "metadata": {
  "kernelspec": {
   "display_name": "Python 3",
   "language": "python",
   "name": "python3"
  },
  "language_info": {
   "codemirror_mode": {
    "name": "ipython",
    "version": 3
   },
   "file_extension": ".py",
   "mimetype": "text/x-python",
   "name": "python",
   "nbconvert_exporter": "python",
   "pygments_lexer": "ipython3",
   "version": "3.12.8"
  }
 },
 "nbformat": 4,
 "nbformat_minor": 2
}
