{
 "cells": [
  {
   "cell_type": "markdown",
   "metadata": {},
   "source": [
    "# Relativistic Mass\n",
    "\n",
    "This concept suggests that an object's mass increases as its velocity approaches the speed of light. However, this idea is outdated in modern physics. Mass normally refers to *rest mass* or *proper mass*, which is constant.\n",
    "\n",
    "But lets explore the concept of relativistic mass in more depth.\n",
    "\n",
    "## Does an object's mass increase as its speed approaches c?\n",
    "\n",
    "### And is this effect what stops us accelerating to light speed?\n",
    "\n",
    "The answers here are 'not really' and 'no'!\n",
    "\n",
    "## Relativistic mass increase\n",
    "\n",
    "As objects speed up, their relativistic mass increases by the Lorentz factor (which also describes time dilation and length contraction). The Lorentz factor is given by:\n",
    "\n",
    "$$\\gamma = \\frac{1}{\\sqrt{1 - \\frac{v^2}{c^2}}}$$\n",
    "\n",
    "where $v$ is the relative velocity of the object and $c$ is the speed of light.\n",
    "\n",
    "Here we calculate the Lorentz factor for a range of velocities:\n"
   ]
  },
  {
   "cell_type": "code",
   "execution_count": 77,
   "metadata": {
    "trusted": false
   },
   "outputs": [
    {
     "name": "stdout",
     "output_type": "stream",
     "text": [
      "+------------------+-----------------+------------------------+-----------------------+--------------------------+\n",
      "|   Velocity (m/s) |         Lorentz | Relativistic mass (kg) | Time dilation (1 min) | Length contraction (1 m) |\n",
      "+------------------+-----------------+------------------------+-----------------------+--------------------------+\n",
      "|                0 |             1.0 |                    1.0 |                60.0 s |                 100.0 cm |\n",
      "|             1000 | 1.0000000000055 |         1.000000000005 |      60.00000000033 s |              99.99999 cm |\n",
      "|          1000000 |       1.0000055 |               1.000005 |            60.00033 s |              99.99944 cm |\n",
      "|        100000000 |           1.060 |                   1.06 |               63.64 s |              94.27274 cm |\n",
      "|        200000000 |            1.34 |                    1.3 |               80.54 s |              74.49429 cm |\n",
      "|        299000000 |           13.76 |                   13.7 |              825.74 s |               7.26617 cm |\n",
      "|    299492665.542 |           22.36 |                   22.3 |            1,341.97 s |               4.47101 cm |\n",
      "| 299792158.207542 |          707.10 |                  707.1 |           42,426.41 s |               0.14142 cm |\n",
      "+------------------+-----------------+------------------------+-----------------------+--------------------------+\n"
     ]
    }
   ],
   "source": [
    "import mpmath as mp\n",
    "import relativity_lib as rl\n",
    "import prettytable as pt\n",
    "\n",
    "# adjust these velocities to see the effects of relativity\n",
    "velocities = [\n",
    "    0,\n",
    "    1000,\n",
    "    1000000,\n",
    "    100000000,\n",
    "    200000000,\n",
    "    299000000,\n",
    "    rl.c_float * 0.999,\n",
    "    rl.c_float * 0.999999,\n",
    "]\n",
    "rest_mass = 1\n",
    "\n",
    "rl.configure(100)\n",
    "minute = mp.mpf(60)\n",
    "table = pt.PrettyTable(\n",
    "    [\n",
    "        \"Velocity (m/s)\",\n",
    "        \"Lorentz\",\n",
    "        \"Relativistic mass (kg)\",\n",
    "        \"Time dilation (1 min)\",\n",
    "        \"Length contraction (1 m)\",\n",
    "    ]\n",
    ")\n",
    "table.align = \"r\"  # right align everything\n",
    "\n",
    "\n",
    "def add_row(v):\n",
    "    global rest_mass, table, minute\n",
    "\n",
    "    # work out the relativistic mass, time dilation and length contraction\n",
    "    gamma = rl.lorentz_factor(v)\n",
    "    relativistic_mass = rest_mass * gamma\n",
    "    time = minute * gamma\n",
    "    length = rl.one / gamma\n",
    "\n",
    "    # format the results\n",
    "    fmt_gamma = rl.format_mpf_significant(gamma, 2)\n",
    "    fmt_relativistic_mass = rl.format_mpf_significant(relativistic_mass, 1)\n",
    "    fmt_time = rl.format_mpf_significant(time, 2) + \" s\"\n",
    "    fmt_length = rl.format_mpf_significant(length * 100, 5) + \" cm\"\n",
    "\n",
    "    # add the results to the table\n",
    "    table.add_row([v, fmt_gamma, fmt_relativistic_mass, fmt_time, fmt_length])\n",
    "\n",
    "# run the calculations\n",
    "for v in velocities:\n",
    "    add_row(v)\n",
    "\n",
    "# print the table\n",
    "print(table)"
   ]
  },
  {
   "cell_type": "markdown",
   "metadata": {},
   "source": [
    "## However..\n",
    "\n",
    "Note that this increase is **frame dependent**. A 1kg object travelling at 0.999c will have the following relativistic mass when it hits the Earth:"
   ]
  },
  {
   "cell_type": "code",
   "execution_count": 78,
   "metadata": {
    "trusted": false
   },
   "outputs": [],
   "source": [
    "# work it out 1kg, 0.999c"
   ]
  },
  {
   "cell_type": "markdown",
   "metadata": {},
   "source": [
    "But that's because the **relative velocity** between the object and Earth is 0.999c.\n",
    "\n",
    "In the object's own frame (like on a spaceship moving with it), there is no relative motion. Its Lorentz factor is 1 and its relativistic mass is just:"
   ]
  },
  {
   "cell_type": "code",
   "execution_count": 79,
   "metadata": {
    "trusted": false
   },
   "outputs": [],
   "source": [
    "# with a lorentz of 1, 1kg, 0 velocity"
   ]
  },
  {
   "cell_type": "markdown",
   "metadata": {},
   "source": [
    "The relativistic mass is no higher than the rest mass!\n",
    "\n",
    "## But how can it have two relativistic masses at once?\n",
    "\n",
    "This is the key concept. In 10 different frames of reference, an object will have 10 different relativistic masses **simultaneously**. None of them is more real that the others.\n",
    "\n",
    "This is why physicists say \"relativistic mass\" is misleading.\n",
    "\n",
    "### So what do you get when you weigh the object travelling at 0.999c (measure its mass)?\n",
    "\n",
    "The scale is in the same frame as the object, so the Lorentz factor is 1 and the measured mass is just the rest mass. It weighs 1kg regardless of its velocity towards the Earth, or any other object.\n",
    "\n",
    "## Lorentz factors are always between 2 specific frames\n",
    "\n",
    "For example, the Earth and the ship.\n",
    "\n",
    "Whenever you use a Lorentz factor you know you are calculating something frame dependent. This includes:\n",
    "\n",
    "- Time dilation\n",
    "- Length contraction\n",
    "- Relativistic energy and mass\n",
    "\n",
    "All these effects have multiple values simultaneously, according to the frames you choose to consider. Time may slow down by 10% in one frame, but its slowed by 50% and 99% in other frames you could choose.\n",
    "\n",
    "# Particle accelerators and light sails\n",
    "\n",
    "If you are accelerating something in a different reference frame, like a particle accelerator moving protons, or a Earth-based laser shining on a ship with a light sail, relativistic mass does indeed come into play. At the object speeds up (relative to the accelerator) the Lorentz factor increases, and it gets harder to accelerate.\n",
    "\n",
    "It would require infinite energy or time to accelerate it to c.\n",
    "\n",
    "# Ship's engines\n",
    "\n",
    "This is very different.\n",
    "\n",
    "The engines and fuel (and you the captain) are all moving together. Your velocity relative to the engines always remains 0. It doesn't matter that you and the ship may be travelling at 0.999c from a particular frame, you can't discover that while on board (unless you look to see how fast the Earth is approaching, and then it could be the Earth thats moving and not you).\n",
    "\n",
    "## No absolute motion, it's all relative\n",
    "\n",
    "When not accelerating, all inertial frames are equivalent. There is no test you can perform to find your \"true\" velocity, you are essentially stationary.\n",
    "\n",
    "This is the case whether your speed is 0 or 0.999c relative to Earth.\n",
    "\n",
    "Everything on board ship remains exactly the same. Its the outside universe (in a different frame) that changes.\n",
    "\n",
    "# So why can't we reach light speed? If it's not relativistic mass that stops us?\n",
    "\n",
    "Remember that all inertial frames are equivalent. You accelerate to 0.999c (relative to the Earth) and measure light speed...\n",
    "\n",
    "### ..and it's just as fast as always!\n",
    "\n",
    "You have made zero progress towards matching it, and you never will! This is why c is unique, its the same in all frames regardless of relative motion.\n",
    "\n",
    "299,792,458 metres per second\n",
    "\n",
    "## In your own frame you can accelerate forever\n",
    "\n",
    "So in your own frame, there is no universal speed limit. You can literally accelerate forever and cross the universe in a day (if the g-force didn't kill you).\n",
    "\n",
    "See the other notebook about a tour of the universe that takes just a few decades. You can travel over 100 billion light years in a human lifetime at 1g acceleration.\n",
    "\n",
    "## In a coordinate frame (eg Earth) constant proper acceleration seems to slow\n",
    "\n",
    "In a coordinate frame, your acceleration would seem to slow as your speed approaches c. Time on board ship would also slow to a standstill as you journeyed across the universe.\n",
    "\n",
    "(table of coordinate time, 1g acceleration and velocity)\n"
   ]
  },
  {
   "cell_type": "code",
   "execution_count": 80,
   "metadata": {
    "trusted": false
   },
   "outputs": [],
   "source": [
    "# relativistic_distance_coord(a, t):\n",
    "# Calculate the distance traveled under constant proper acceleration and coordinate time\n",
    "\n",
    "# try 1 year, 2 years etc\n",
    "# the distance should top out at approaches c"
   ]
  }
 ],
 "metadata": {
  "kernelspec": {
   "display_name": "Python 3",
   "language": "python",
   "name": "python3"
  },
  "language_info": {
   "codemirror_mode": {
    "name": "ipython",
    "version": 3
   },
   "file_extension": ".py",
   "mimetype": "text/x-python",
   "name": "python",
   "nbconvert_exporter": "python",
   "pygments_lexer": "ipython3",
   "version": "3.12.8"
  }
 },
 "nbformat": 4,
 "nbformat_minor": 2
}
