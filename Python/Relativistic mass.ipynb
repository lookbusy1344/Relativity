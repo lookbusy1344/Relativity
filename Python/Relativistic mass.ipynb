{
 "cells": [
  {
   "cell_type": "markdown",
   "metadata": {},
   "source": [
    "# Relativistic mass and Proper acceleration\n",
    "\n",
    "The concept of 'relativistic mass' suggests that an object's mass increases as its velocity approaches the speed of light. However, this idea is outdated in modern physics. Mass normally refers to *rest mass* or *proper mass*, which is constant.\n",
    "\n",
    "But lets explore the concept of relativistic mass in more depth.\n",
    "\n",
    "## Terminology\n",
    "\n",
    "- *Proper time*: means your subjective experience of time (eg on the ship that's moving)\n",
    "- *Coordinate time*: means the time in the background frame of reference you think of as stationary (eg on Earth)\n",
    "- *Rest mass*: is the real physical mass of an object when it is at rest relative to you (aka *proper mass*)\n",
    "\n",
    "## Does an object's mass increase as its speed approaches c?\n",
    "\n",
    "### ..and is this effect what stops us accelerating to light speed?\n",
    "\n",
    "The answers are 'not really' and 'no'.\n",
    "\n",
    "## Relativistic mass increase\n",
    "\n",
    "As objects speed up, their relativistic mass increases by the Lorentz factor (which also describes time dilation and length contraction). The Lorentz factor is given by:\n",
    "\n",
    "$$\\gamma = \\frac{1}{\\sqrt{1 - \\frac{v^2}{c^2}}}$$\n",
    "\n",
    "where $v$ is the relative velocity of the object and $c$ is the speed of light.\n",
    "\n",
    "Here we calculate the Lorentz factor for a range of velocities:\n"
   ]
  },
  {
   "cell_type": "code",
   "execution_count": 46,
   "metadata": {
    "trusted": false
   },
   "outputs": [
    {
     "data": {
      "text/markdown": [
       "| Velocity (m/s) |         Lorentz | Relativistic mass (kg) | Time dilation (1 min) | Length contraction (1 m) |\n",
       "|--------------: |---------------: |----------------------: |---------------------: |------------------------: |\n",
       "|            0.0 |             1.0 |                    1.0 |                60.0 s |                 100.0 cm |\n",
       "|        1,000.0 | 1.0000000000055 |         1.000000000005 |      60.00000000033 s |        99.99999999944 cm |\n",
       "|    1,000,000.0 |       1.0000055 |               1.000005 |            60.00033 s |              99.99944 cm |\n",
       "|  100,000,000.0 |           1.060 |                   1.06 |               63.64 s |                 94.27 cm |\n",
       "|  200,000,000.0 |            1.34 |                    1.3 |               80.54 s |                 74.49 cm |\n",
       "|  299,000,000.0 |           13.76 |                   13.7 |              825.74 s |                  7.26 cm |\n",
       "| 299,492,665.54 |           22.36 |                   22.3 |            1,341.97 s |                  4.47 cm |\n",
       "| 299,792,158.20 |          707.10 |                  707.1 |           42,426.41 s |                  0.14 cm |"
      ],
      "text/plain": [
       "<IPython.core.display.Markdown object>"
      ]
     },
     "metadata": {},
     "output_type": "display_data"
    }
   ],
   "source": [
    "import mpmath as mp\n",
    "import relativity_lib as rl\n",
    "from prettytable import PrettyTable, TableStyle\n",
    "from IPython.display import Markdown\n",
    "\n",
    "# adjust these velocities to see the effects of relativity\n",
    "velocities = [\n",
    "    0,\n",
    "    1000,\n",
    "    1000000,\n",
    "    100000000,\n",
    "    200000000,\n",
    "    299000000,\n",
    "    rl.c_float * 0.999,\n",
    "    rl.c_float * 0.999999,\n",
    "]\n",
    "rest_mass = mp.mpf(1)\n",
    "\n",
    "rl.configure(100)\n",
    "minute = mp.mpf(60)\n",
    "table = PrettyTable(\n",
    "    [\n",
    "        \"Velocity (m/s)\",\n",
    "        \"Lorentz\",\n",
    "        \"Relativistic mass (kg)\",\n",
    "        \"Time dilation (1 min)\",\n",
    "        \"Length contraction (1 m)\",\n",
    "    ]\n",
    ")\n",
    "table.set_style(TableStyle.MARKDOWN)\n",
    "table.align = \"r\"  # right align everything\n",
    "\n",
    "\n",
    "def add_row(v):\n",
    "    global rest_mass, table, minute\n",
    "\n",
    "    # work out the relativistic mass, time dilation and length contraction\n",
    "    gamma = rl.lorentz_factor(v)\n",
    "    relativistic_mass = rest_mass * gamma\n",
    "    time = minute * gamma\n",
    "    length = rl.one / gamma\n",
    "\n",
    "    # format the results\n",
    "    fmt_v = rl.format_mpf_significant(v, 2, '9')\n",
    "    fmt_gamma = rl.format_mpf_significant(gamma, 2)\n",
    "    fmt_relativistic_mass = rl.format_mpf_significant(relativistic_mass, 1)\n",
    "    fmt_time = rl.format_mpf_significant(time, 2) + \" s\"\n",
    "    fmt_length = rl.format_mpf_significant(length * 100, 2, \"9\") + \" cm\"\n",
    "\n",
    "    # add the results to the table\n",
    "    table.add_row([fmt_v, fmt_gamma, fmt_relativistic_mass, fmt_time, fmt_length])\n",
    "\n",
    "\n",
    "# run the calculations\n",
    "for v in velocities:\n",
    "    add_row(v)\n",
    "\n",
    "# show the table\n",
    "markdown_table = table.get_string()\n",
    "display(Markdown(markdown_table))\n"
   ]
  },
  {
   "cell_type": "markdown",
   "metadata": {},
   "source": [
    "## However..\n",
    "\n",
    "Note that this increase is **frame dependent**. A 50kg object travelling at 0.999c will have the following relativistic mass when it hits the Earth:"
   ]
  },
  {
   "cell_type": "code",
   "execution_count": 47,
   "metadata": {
    "trusted": false
   },
   "outputs": [
    {
     "name": "stdout",
     "output_type": "stream",
     "text": [
      "Rest mass: 50.0 kg\n",
      "First velocity: 0.0c, second velocity: 0.999c\n",
      "Relative velocity: 0.999c\n",
      "Lorentz factor: 22.36\n",
      "Relativistic mass: 1,118.31 kg\n"
     ]
    }
   ],
   "source": [
    "# Work out relativistic mass of 50kg going at 0.999c\n",
    "rest_mass = mp.mpf(50)\n",
    "\n",
    "earth_velocity = 0.0\n",
    "ship_velocity = 0.999\n",
    "\n",
    "\n",
    "def calculate_relative_mass(vel1, vel2):\n",
    "    global rest_mass\n",
    "    relative_velocity_c = abs(vel2 - vel1)\n",
    "    gamma = rl.lorentz_factor(rl.c * relative_velocity_c)\n",
    "    relativistic_mass = rest_mass * gamma\n",
    "\n",
    "    print(f\"Rest mass: {rest_mass} kg\")\n",
    "    print(f\"First velocity: {vel1}c, second velocity: {vel2}c\")\n",
    "    print(f\"Relative velocity: {relative_velocity_c}c\")\n",
    "    print(f\"Lorentz factor: {rl.format_mpf(gamma, 2)}\")\n",
    "    print(f\"Relativistic mass: {rl.format_mpf(relativistic_mass, 2)} kg\")\n",
    "\n",
    "\n",
    "calculate_relative_mass(earth_velocity, ship_velocity)"
   ]
  },
  {
   "cell_type": "markdown",
   "metadata": {},
   "source": [
    "But that's because the **relative velocity** between the object and Earth is 0.999c.\n",
    "\n",
    "In the object's own frame (like on a spaceship moving with it), there is no relative motion. Its Lorentz factor is 1 and its relativistic mass is just:"
   ]
  },
  {
   "cell_type": "code",
   "execution_count": 48,
   "metadata": {
    "trusted": false
   },
   "outputs": [
    {
     "name": "stdout",
     "output_type": "stream",
     "text": [
      "Rest mass: 50.0 kg\n",
      "First velocity: 0.999c, second velocity: 0.999c\n",
      "Relative velocity: 0.0c\n",
      "Lorentz factor: 1.00\n",
      "Relativistic mass: 50.00 kg\n"
     ]
    }
   ],
   "source": [
    "# save frame of reference, whats the relativistic mass here?\n",
    "object_velocity = 0.999\n",
    "ship_velocity = 0.999\n",
    "\n",
    "calculate_relative_mass(object_velocity, ship_velocity)"
   ]
  },
  {
   "cell_type": "markdown",
   "metadata": {},
   "source": [
    "The relativistic mass is the same as the rest mass!\n",
    "\n",
    "Lets consider a third frame of reference, this time an object travelling at 0.5c which the 0.999c object collides with:"
   ]
  },
  {
   "cell_type": "code",
   "execution_count": 49,
   "metadata": {},
   "outputs": [
    {
     "name": "stdout",
     "output_type": "stream",
     "text": [
      "Rest mass: 50.0 kg\n",
      "First velocity: 0.999c, second velocity: 0.5c\n",
      "Relative velocity: 0.499c\n",
      "Lorentz factor: 1.15\n",
      "Relativistic mass: 57.69 kg\n"
     ]
    }
   ],
   "source": [
    "object_velocity = 0.999\n",
    "mid_velocity = 0.5\n",
    "\n",
    "calculate_relative_mass(object_velocity, mid_velocity)"
   ]
  },
  {
   "cell_type": "markdown",
   "metadata": {},
   "source": [
    "The relativistic mass is different again. Depending on your point of view, it seems to be:\n",
    "\n",
    "- 50 kg (same as rest mass)\n",
    "- 57.69 kg\n",
    "- 1,118.31 kg\n",
    "\n",
    "## But how can it have three relativistic masses at once?\n",
    "\n",
    "This is the key concept. In $x$ different frames of reference, an object will have $x$ different relativistic masses **simultaneously**. None of them is more real that the others.\n",
    "\n",
    "This is why physicists say \"relativistic mass\" is misleading.\n",
    "\n",
    "## So what do you get when you weigh the object travelling at 0.999c (measure its mass)?\n",
    "\n",
    "The scale is in the same frame as the object, so the Lorentz factor is 1 and the measured mass is just the *rest mass*. It weighs 50kg regardless of its velocity towards the Earth, or any other object.\n",
    "\n",
    "## Lorentz factors are always between 2 specific frames\n",
    "\n",
    "For example, the Earth and the ship.\n",
    "\n",
    "Whenever you use a Lorentz factor you know you are calculating something frame dependent. This includes:\n",
    "\n",
    "- Time dilation\n",
    "- Length contraction\n",
    "- Relativistic energy and mass\n",
    "\n",
    "All these effects have multiple values simultaneously, according to the frames you choose to consider. Time may slow down by 10% in one frame, but its slowed by 50% and 99% in other frames you could choose.\n",
    "\n",
    "## Example 1 - Particle accelerators and light sails\n",
    "\n",
    "### Here there is high relative velocity.\n",
    "\n",
    "If you are accelerating something in a different reference frame, like a particle accelerator moving protons, or a Earth-based laser shining on a ship with a light sail, relativistic mass does indeed come into play. As the object speeds up (relative to the accelerator) the Lorentz factor increases, and it gets harder to accelerate.\n",
    "\n",
    "It would require infinite energy or time to accelerate it to c.\n",
    "\n",
    "## Example 2 - Ship accelerating itself\n",
    "\n",
    "### Here there is low/zero relative velocity.\n",
    "\n",
    "The engines and fuel (and you the captain) are all moving together. Your velocity relative to the engines always remains 0. It doesn't matter that you and the ship may be travelling at 0.999c from a particular frame, you can't discover that while on board (unless you look to see how fast the Earth is approaching, and then it could be the Earth thats moving and not you).\n",
    "\n",
    "## No absolute motion, it's all relative\n",
    "\n",
    "When not accelerating, all inertial frames are equivalent. There is no test you can perform to find your \"true\" velocity, you are essentially stationary.\n",
    "\n",
    "This is the case whether your speed is 0 or 0.999c relative to Earth.\n",
    "\n",
    "Everything on board ship remains exactly the same. Its the outside universe (in a different frame) that changes.\n",
    "\n",
    "## So what stops us accelerating to light speed? \n",
    "\n",
    "### ..if it's not relativistic mass that stops us?\n",
    "\n",
    "Remember that all inertial frames are equivalent. You accelerate to 0.999c (relative to the Earth) and measure light speed...\n",
    "\n",
    "### ..and it's just as fast as always!\n",
    "\n",
    "You have made zero progress towards matching it, and you never will. This is why c is unique, it's the same in all frames regardless of relative motion.\n",
    "\n",
    "299,792,458 metres per second\n",
    "\n",
    "## In your own frame you can accelerate forever\n",
    "\n",
    "So in your own frame, there is no universal speed limit. You can literally accelerate forever and cross the universe in a day (if the g-force didn't kill you).\n",
    "\n",
    "You can travel over a trillion light years in a human lifetime at 1g acceleration. See the 'Proper time' table below.\n",
    "\n",
    "## In coordinate time\n",
    "\n",
    "Although the proper acceleration is constant in the ship’s *instantaneous rest frame*, an observer in an inertial coordinate frame will measure a coordinate acceleration that decreases with time due to relativistic effects. This reduction is a direct consequence of the increasing *Lorentz factor* as the ship’s velocity approaches the speed of light.\n",
    "\n",
    "Here are the calculations:"
   ]
  },
  {
   "cell_type": "code",
   "execution_count": 50,
   "metadata": {
    "trusted": false
   },
   "outputs": [
    {
     "name": "stdout",
     "output_type": "stream",
     "text": [
      "In coordinate time under constant proper acceleration\n",
      "Coord year: year number as seen from Earth\n",
      "This year km: coordinate distance travelled in this year\n",
      "Additional km: increase in distance travelled this year, compared to last year\n"
     ]
    },
    {
     "data": {
      "text/markdown": [
       "| Coord year |      This year (km) |     Additional (km) | Lorentz | 1 minute ship-time |\n",
       "|----------: |-------------------: |-------------------: |-------: |------------------: |\n",
       "|          1 | 4,007,115,677,439.6 | 4,007,115,677,439.6 |    1.43 |             86.2 s |\n",
       "|          2 | 7,852,269,809,174.0 | 3,845,154,131,734.4 |    2.29 |            137.6 s |\n",
       "|          3 | 8,801,044,116,061.2 |   948,774,306,887.1 |    3.25 |            195.2 s |\n",
       "|          4 | 9,111,682,680,281.2 |   310,638,564,220.0 |    4.24 |            254.9 s |\n",
       "|          5 | 9,246,412,741,571.2 |   134,730,061,290.0 |    5.25 |            315.4 s |\n",
       "|          6 | 9,316,182,203,946.7 |    69,769,462,375.4 |    6.27 |            376.4 s |\n",
       "|          7 | 9,356,791,641,875.0 |    40,609,437,928.3 |    7.29 |            437.6 s |\n",
       "|          8 | 9,382,450,531,542.6 |    25,658,889,667.5 |    8.31 |            499.1 s |\n",
       "|          9 | 9,399,676,353,614.6 |    17,225,822,072.0 |    9.34 |            560.6 s |\n",
       "|         10 | 9,411,791,838,691.8 |    12,115,485,077.1 |   10.37 |            622.2 s |\n",
       "|         11 | 9,420,632,916,942.1 |     8,841,078,250.3 |   11.39 |            683.9 s |\n",
       "|         12 | 9,427,280,251,053.4 |     6,647,334,111.3 |   12.42 |            745.6 s |\n",
       "|         13 | 9,432,403,244,439.0 |     5,122,993,385.5 |   13.45 |            807.4 s |\n",
       "|         14 | 9,436,434,355,739.0 |     4,031,111,300.0 |   14.48 |            869.2 s |\n",
       "|         15 | 9,439,662,989,217.1 |     3,228,633,478.0 |   15.51 |            931.0 s |\n",
       "|         16 | 9,442,288,707,205.6 |     2,625,717,988.5 |   16.54 |            992.8 s |\n",
       "|         17 | 9,444,452,716,086.5 |     2,164,008,880.9 |   17.57 |          1,054.6 s |\n",
       "|         18 | 9,446,257,198,028.2 |     1,804,481,941.6 |   18.60 |          1,116.4 s |\n",
       "|         19 | 9,447,777,566,900.6 |     1,520,368,872.3 |   19.63 |          1,178.3 s |\n",
       "|         20 | 9,449,070,459,490.6 |     1,292,892,589.9 |   20.67 |          1,240.2 s |\n",
       "|         21 | 9,450,179,076,816.0 |     1,108,617,325.4 |   21.70 |          1,302.0 s |\n",
       "|         22 | 9,451,136,833,887.1 |       957,757,071.0 |   22.73 |          1,363.9 s |\n",
       "|         23 | 9,451,969,903,382.8 |       833,069,495.7 |   23.76 |          1,425.8 s |\n",
       "|         24 | 9,452,699,020,286.9 |       729,116,904.0 |   24.79 |          1,487.7 s |\n",
       "|         25 | 9,453,340,783,009.0 |       641,762,722.1 |   25.82 |          1,549.6 s |\n",
       "|         26 | 9,453,908,605,340.2 |       567,822,331.2 |   26.85 |          1,611.4 s |\n",
       "|         27 | 9,454,413,422,341.4 |       504,817,001.2 |   27.88 |          1,673.3 s |\n",
       "|         28 | 9,454,864,220,246.7 |       450,797,905.2 |   28.92 |          1,735.2 s |\n",
       "|         29 | 9,455,268,438,786.0 |       404,218,539.2 |   29.95 |          1,797.1 s |\n",
       "|         30 | 9,455,632,279,856.1 |       363,841,070.1 |   30.98 |          1,859.0 s |\n",
       "|         31 | 9,455,960,946,645.9 |       328,666,789.7 |   32.01 |          1,921.0 s |\n",
       "|         32 | 9,456,258,830,561.2 |       297,883,915.3 |   33.04 |          1,982.9 s |\n",
       "|         33 | 9,456,529,658,576.1 |       270,828,014.8 |   34.08 |          2,044.8 s |\n",
       "|         34 | 9,456,776,610,302.1 |       246,951,726.0 |   35.11 |          2,106.7 s |\n",
       "|         35 | 9,457,002,411,683.9 |       225,801,381.7 |   36.14 |          2,168.6 s |\n",
       "|         36 | 9,457,209,410,505.3 |       206,998,821.3 |   37.17 |          2,230.5 s |\n",
       "|         37 | 9,457,399,637,632.6 |       190,227,127.3 |   38.20 |          2,292.4 s |\n",
       "|         38 | 9,457,574,856,992.2 |       175,219,359.6 |   39.23 |          2,354.3 s |\n",
       "|         39 | 9,457,736,606,590.1 |       161,749,597.8 |   40.27 |          2,416.3 s |"
      ],
      "text/plain": [
       "<IPython.core.display.Markdown object>"
      ]
     },
     "metadata": {},
     "output_type": "display_data"
    }
   ],
   "source": [
    "# In coordinate time, what distance is traveled in each year under proper constant acceleration?\n",
    "\n",
    "accel = rl.g  # 9.81 m/s^2\n",
    "minute = mp.mpf(60)  # 1 minute in seconds\n",
    "\n",
    "# Used in the loop\n",
    "previous_total = mp.mpf(0)\n",
    "previous_year = mp.mpf(0)\n",
    "\n",
    "years = PrettyTable(\n",
    "    [\n",
    "        \"Coord year\",\n",
    "        \"This year (km)\",\n",
    "        \"Additional (km)\",\n",
    "        \"Lorentz\",\n",
    "        \"1 minute ship-time\",\n",
    "    ]\n",
    ")\n",
    "years.set_style(TableStyle.MARKDOWN)\n",
    "years.align = \"r\"  # right align everything\n",
    "\n",
    "for year in range(1, 40):\n",
    "    # work out total distance in coord time for journey of year duration\n",
    "    sec = mp.mpf(year) * rl.seconds_per_year\n",
    "    total_distance = rl.relativistic_distance_coord(accel, sec)\n",
    "\n",
    "    # work out the velocity (coord time) and lorentz factor\n",
    "    velocity = rl.relativistic_velocity_coord(accel, sec)\n",
    "    gamma = rl.lorentz_factor(velocity)\n",
    "\n",
    "    # time dilation factor\n",
    "    time_dilation = minute * gamma\n",
    "\n",
    "    # distance traveled in this year\n",
    "    this_year = total_distance - previous_total\n",
    "\n",
    "    # the increase this year\n",
    "    this_year_increase = this_year - previous_year\n",
    "\n",
    "    # update the previous values\n",
    "    previous_total = total_distance\n",
    "    previous_year = this_year\n",
    "\n",
    "    # format the results and add to table\n",
    "    fmt_this_year_increase = rl.format_mpf(this_year_increase / 1000, 1)\n",
    "    fmt_this_year = rl.format_mpf(this_year / 1000, 1)\n",
    "    fmt_gamma = rl.format_mpf(gamma, 2)\n",
    "    fmt_time = rl.format_mpf(time_dilation, 1) + \" s\"\n",
    "    years.add_row([year, fmt_this_year, fmt_this_year_increase, fmt_gamma, fmt_time])\n",
    "\n",
    "print(\"In coordinate time under constant proper acceleration\")\n",
    "print(\"Coord year: year number as seen from Earth\")\n",
    "print(\"This year km: coordinate distance travelled in this year\")\n",
    "print(\"Additional km: increase in distance travelled this year, compared to last year\")\n",
    "\n",
    "markdown_years = years.get_string()\n",
    "display(Markdown(markdown_years))\n"
   ]
  },
  {
   "cell_type": "markdown",
   "metadata": {},
   "source": [
    "Notice how the additional distance travelled each year shrinks as the *Lorentz factor* increases even though the *proper acceleration* is constant.\n",
    "\n",
    "The acceleration seems to slow, even though in this ship’s frame it’s constant.\n",
    "\n",
    "## However in proper time\n",
    "\n",
    "But doing the same calculations in *proper time* (each year as it passes on board ship) gives a very different result:"
   ]
  },
  {
   "cell_type": "code",
   "execution_count": 51,
   "metadata": {},
   "outputs": [
    {
     "name": "stdout",
     "output_type": "stream",
     "text": [
      "In proper time under constant proper acceleration\n",
      "Proper year: year number as seen from the ship\n",
      "This year km: coordinate distance travelled in this year\n",
      "Additional km: increase in distance travelled this year, compared to last year\n"
     ]
    },
    {
     "data": {
      "text/markdown": [
       "| Proper year |                          This year (km) |                         Additional (km) |                    Lorentz |\n",
       "|-----------: |---------------------------------------: |---------------------------------------: |--------------------------: |\n",
       "|           1 |                       5,332,469,445,011 |                       5,332,469,445,011 |                       1.58 |\n",
       "|           2 |                      22,202,754,543,270 |                      16,870,285,098,259 |                       4.00 |\n",
       "|           3 |                      64,910,183,227,304 |                      42,707,428,684,034 |                      11.08 |\n",
       "|           4 |                     183,153,001,943,884 |                     118,242,818,716,579 |                      31.07 |\n",
       "|           5 |                     514,529,303,723,001 |                     331,376,301,779,117 |                      87.21 |\n",
       "|           6 |                   1,444,658,677,940,568 |                     930,129,374,217,566 |                     244.84 |\n",
       "|           7 |                   4,055,924,220,269,281 |                   2,611,265,542,328,712 |                     687.40 |\n",
       "|           8 |                  11,387,031,899,657,576 |                   7,331,107,679,388,295 |                   1,929.88 |\n",
       "|           9 |                  31,969,125,065,277,963 |                  20,582,093,165,620,387 |                   5,418.15 |\n",
       "|          10 |                  89,753,398,393,428,303 |                  57,784,273,328,150,339 |                  15,211.47 |\n",
       "|          11 |                 251,982,885,358,601,091 |                 162,229,486,965,172,788 |                  42,706.26 |\n",
       "|          12 |                 707,442,564,887,484,612 |                 455,459,679,528,883,520 |                 119,897.93 |\n",
       "|          13 |               1,986,146,724,828,226,932 |               1,278,704,159,940,742,320 |                 336,613.74 |\n",
       "|          14 |               5,576,111,769,619,714,968 |               3,589,965,044,791,488,035 |                 945,043.91 |\n",
       "|          15 |              15,654,947,380,503,208,694 |              10,078,835,610,883,493,726 |               2,653,213.09 |\n",
       "|          16 |              43,951,302,917,102,658,357 |              28,296,355,536,599,449,662 |               7,448,902.23 |\n",
       "|          17 |             123,393,390,035,698,554,264 |              79,442,087,118,595,895,906 |              20,912,811.17 |\n",
       "|          18 |             346,427,243,197,312,761,390 |             223,033,853,161,614,207,126 |              58,712,768.32 |\n",
       "|          19 |             972,595,329,414,077,098,771 |             626,168,086,216,764,337,380 |             164,836,240.12 |\n",
       "|          20 |           2,730,563,757,248,450,357,774 |           1,757,968,427,834,373,259,003 |             462,778,145.81 |\n",
       "|          21 |           7,666,064,402,026,788,142,584 |           4,935,500,644,778,337,784,809 |           1,299,250,772.03 |\n",
       "|          22 |          21,522,494,488,552,997,099,569 |          13,856,430,086,526,208,956,985 |           3,647,649,708.35 |\n",
       "|          23 |          60,424,455,720,372,837,681,358 |          38,901,961,231,819,840,581,788 |          10,240,785,444.41 |\n",
       "|          24 |         169,641,806,670,931,568,791,231 |         109,217,350,950,558,731,109,873 |          28,751,030,088.88 |\n",
       "|          25 |         476,269,785,594,026,550,410,043 |         306,627,978,923,094,981,618,811 |          80,718,587,032.03 |\n",
       "|          26 |       1,337,128,583,579,558,460,915,324 |         860,858,797,985,531,910,505,281 |         226,617,629,779.02 |\n",
       "|          27 |       3,753,991,756,574,491,667,844,926 |       2,416,863,172,994,933,206,929,602 |         636,229,547,802.71 |\n",
       "|          28 |      10,539,341,003,916,803,755,139,824 |       6,785,349,247,342,312,087,294,897 |       1,786,216,005,753.64 |\n",
       "|          29 |      29,589,225,549,658,691,709,198,384 |      19,049,884,545,741,887,954,058,560 |       5,014,805,788,617.42 |\n",
       "|          30 |      83,071,822,830,592,413,595,282,077 |      53,482,597,280,933,721,886,083,692 |      14,079,079,471,096.92 |\n",
       "|          31 |     233,224,345,017,605,111,531,225,864 |     150,152,522,187,012,697,935,943,786 |      39,527,049,921,530.82 |\n",
       "|          32 |     654,777,916,933,582,314,067,926,479 |     421,553,571,915,977,202,536,700,615 |     110,972,288,970,072.95 |\n",
       "|          33 |   1,838,290,597,285,278,729,882,481,010 |   1,183,512,680,351,696,415,814,554,531 |     311,554,971,689,130.32 |\n",
       "|          34 |   5,161,005,331,232,404,488,068,693,341 |   3,322,714,733,947,125,758,186,212,330 |     874,691,342,181,756.05 |\n",
       "|          35 |  14,489,535,043,232,201,775,264,117,396 |   9,328,529,711,999,797,287,195,424,055 |   2,455,698,074,531,527.35 |\n",
       "|          36 |  40,679,404,940,455,762,355,886,762,533 |  26,189,869,897,223,560,580,622,645,136 |   6,894,378,328,035,120.64 |\n",
       "|          37 | 114,207,528,493,642,740,803,750,483,417 |  73,528,123,553,186,978,447,863,720,884 |  19,355,983,955,457,592.07 |\n",
       "|          38 | 320,637,914,534,845,303,394,703,189,915 | 206,430,386,041,202,562,590,952,706,498 |  54,341,972,119,581,541.87 |\n",
       "|          39 | 900,191,726,353,464,633,490,928,654,862 | 579,553,811,818,619,330,096,225,464,946 | 152,565,219,140,551,048.22 |"
      ],
      "text/plain": [
       "<IPython.core.display.Markdown object>"
      ]
     },
     "metadata": {},
     "output_type": "display_data"
    }
   ],
   "source": [
    "# In proper time, what distance is traveled in each year under proper constant acceleration?\n",
    "\n",
    "accel = rl.g  # 9.81 m/s^2\n",
    "minute = mp.mpf(60)  # 1 minute in seconds\n",
    "\n",
    "# Used in the loop\n",
    "previous_total = mp.mpf(0)\n",
    "previous_year = mp.mpf(0)\n",
    "\n",
    "years = PrettyTable([\"Proper year\", \"This year (km)\", \"Additional (km)\", \"Lorentz\"])\n",
    "years.set_style(TableStyle.MARKDOWN)\n",
    "years.align = \"r\"  # right align everything\n",
    "\n",
    "for year in range(1, 40):\n",
    "    # work out total distance in proper time for journey of year duration\n",
    "    sec = mp.mpf(year) * rl.seconds_per_year\n",
    "    total_distance = rl.relativistic_distance(accel, sec)\n",
    "\n",
    "    # work out the velocity and lorentz factor\n",
    "    velocity = rl.relativistic_velocity(accel, sec)\n",
    "    gamma = rl.lorentz_factor(velocity)\n",
    "\n",
    "    # time dilation factor\n",
    "    time_dilation = minute * gamma\n",
    "\n",
    "    # distance traveled in this year\n",
    "    this_year = total_distance - previous_total\n",
    "\n",
    "    # the increase this year\n",
    "    this_year_increase = this_year - previous_year\n",
    "\n",
    "    # update the previous values\n",
    "    previous_total = total_distance\n",
    "    previous_year = this_year\n",
    "\n",
    "    # format the results and add to table\n",
    "    fmt_this_year_increase = rl.format_mpf(this_year_increase / 1000, 0)\n",
    "    fmt_this_year = rl.format_mpf(this_year / 1000, 0)\n",
    "    fmt_gamma = rl.format_mpf(gamma, 2)\n",
    "    years.add_row([year, fmt_this_year, fmt_this_year_increase, fmt_gamma])\n",
    "\n",
    "print(\"In proper time under constant proper acceleration\")\n",
    "print(\"Proper year: year number as seen from the ship\")\n",
    "print(\"This year km: coordinate distance travelled in this year\")\n",
    "print(\"Additional km: increase in distance travelled this year, compared to last year\")\n",
    "\n",
    "markdown_years = years.get_string()\n",
    "display(Markdown(markdown_years))\n"
   ]
  },
  {
   "cell_type": "markdown",
   "metadata": {},
   "source": [
    "## Comparing the 39th year\n",
    "\n",
    "To compare the 39th year in coordinate and proper time, and convert the distances into light years:"
   ]
  },
  {
   "cell_type": "code",
   "execution_count": 52,
   "metadata": {},
   "outputs": [
    {
     "name": "stdout",
     "output_type": "stream",
     "text": [
      "Km travelled:\n",
      "39th coordinate year 9,457,736,606,590.1 km\n",
      "39th proper year 900,191,726,353,464,633,490,928,654,862.5 km\n",
      "\n",
      "Light years travelled:\n",
      "39th coordinate year 0.99968 ly\n",
      "39th proper year 95,150,340,553,767,053.3 ly\n"
     ]
    }
   ],
   "source": [
    "# converting the final year to light years\n",
    "final_year_coord = mp.mpf(\"9457736606590.1\")\n",
    "final_year_proper = mp.mpf(\"900191726353464633490928654862.5\")\n",
    "\n",
    "coord_ly = final_year_coord * 1000 / rl.light_year\n",
    "proper_ly = final_year_proper * 1000 / rl.light_year\n",
    "\n",
    "print(\"Km travelled:\")\n",
    "print(f\"39th coordinate year {rl.format_mpf(final_year_coord, 1)} km\")\n",
    "print(f\"39th proper year {rl.format_mpf(final_year_proper, 1)} km\")\n",
    "print()\n",
    "print(\"Light years travelled:\")\n",
    "print(f\"39th coordinate year {rl.format_mpf_significant(coord_ly, 2, '9')} ly\")\n",
    "print(f\"39th proper year {rl.format_mpf(proper_ly, 1)} ly\")"
   ]
  },
  {
   "cell_type": "markdown",
   "metadata": {},
   "source": [
    "# Conclusion\n",
    "\n",
    "While we still have fuel, we can accelerate forever in our own frame. The speed of light doesn't stop us, we simply never get close to it.\n",
    "\n",
    "In *proper* years (years on ship) we move faster each year as time dilation occurs. In the 39th year at 1g we travel a coordinate distance of $95,150,340,553,767,053$ light years, much larger than the size of the observable universe!\n",
    "\n",
    "However in *coordinate* years (years on Earth) acceleration appears to slow down as we approach $c$ even though the *proper* acceleration is constant. In the 39th year we only travel $0.99968$ light years. This will never reach 1 light year per year.\n",
    "\n",
    "The 'relativistic mass' of the ship doesn't increase as far as the ship is concerned, and this isn't what stops us reaching light speed.\n",
    "\n",
    "We can't reach light speed because it's always 299,792,458 m/s faster than us."
   ]
  }
 ],
 "metadata": {
  "kernelspec": {
   "display_name": "Python 3",
   "language": "python",
   "name": "python3"
  },
  "language_info": {
   "codemirror_mode": {
    "name": "ipython",
    "version": 3
   },
   "file_extension": ".py",
   "mimetype": "text/x-python",
   "name": "python",
   "nbconvert_exporter": "python",
   "pygments_lexer": "ipython3",
   "version": "3.12.8"
  }
 },
 "nbformat": 4,
 "nbformat_minor": 2
}
