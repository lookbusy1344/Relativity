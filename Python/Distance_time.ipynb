{
 "cells": [
  {
   "cell_type": "markdown",
   "metadata": {},
   "source": [
    "# Tour of the universe\n",
    "\n",
    "This Jupyter notebook models a tour of the universe at constant 1g acceleration. We explore journeys of between 1 and 25 million light years, and calculate the time experienced by the traveller and the coordinate time (eg on Earth)."
   ]
  },
  {
   "cell_type": "code",
   "execution_count": 26,
   "metadata": {},
   "outputs": [],
   "source": [
    "# Light years to calculate\n",
    "\n",
    "distances: list[int] = [\n",
    "    1,\n",
    "    2,\n",
    "    3,\n",
    "    4,\n",
    "    5,\n",
    "    10,\n",
    "    50,\n",
    "    100,\n",
    "    200,\n",
    "    500,\n",
    "    # 8, 10, 12, 14, 16, 20, 25,\n",
    "    # 30, 40, 50, 60, 70, 80, 90,\n",
    "    # 100, 200, 300, 400, 500,\n",
    "    1000,\n",
    "    2000,\n",
    "    5000,\n",
    "    10000,\n",
    "    20000,\n",
    "    50000,\n",
    "    100000,\n",
    "    500000,\n",
    "    1000000,\n",
    "    2500000,\n",
    "    5000000,\n",
    "    10000000,\n",
    "    25000000,\n",
    "]"
   ]
  },
  {
   "cell_type": "markdown",
   "metadata": {},
   "source": [
    "## Code to calculate the journey\n",
    "\n",
    "Has option for flip-and-burn at the halfway point, to slow down and return to the start, or to continue accelerating to the destination."
   ]
  },
  {
   "cell_type": "code",
   "execution_count": 27,
   "metadata": {},
   "outputs": [],
   "source": [
    "from mpmath import mp\n",
    "import relativity_lib as rl\n",
    "from prettytable import PrettyTable  # , TableStyle\n",
    "\n",
    "# use 100 decimal places\n",
    "rl.configure(300)\n",
    "table = PrettyTable([\"Ly\", \"Prop Yrs\", \"Co'rd Yrs\", \"Peak c\", \"Lorentz\", \"Apparent c\"])\n",
    "table.align = \"r\"  # right align everything\n",
    "\n",
    "\n",
    "def process_dist(distance_ly, flip: bool) -> None:\n",
    "    accel = \"1\"\n",
    "    distance = rl.light_year * rl.ensure(distance_ly)\n",
    "    a = rl.g * mp.mpf(accel)\n",
    "\n",
    "    if flip:\n",
    "        # seconds to burn to get required distance (proper time)\n",
    "        burn_sec = rl.relativistic_time_for_distance(\n",
    "            a, distance / 2\n",
    "        )  # accelerate half-way\n",
    "\n",
    "        # convert to years\n",
    "        burn_years = burn_sec * 2 / rl.seconds_per_year\n",
    "\n",
    "        # coordinate time (outside observer\n",
    "        coord_years = rl.coordinate_time(a, burn_sec) * 2 / rl.seconds_per_year\n",
    "\n",
    "        # work out top speed as fraction of light speed\n",
    "        peak_velocity = rl.relativistic_velocity(a, burn_sec) / rl.c\n",
    "\n",
    "        # peak lorentz factor\n",
    "        peak_lorentz = rl.lorentz_factor(peak_velocity * rl.c)\n",
    "    else:\n",
    "        # seconds to burn to get required distance (proper time)\n",
    "        burn_sec = rl.relativistic_time_for_distance(a, distance)\n",
    "\n",
    "        # convert to years\n",
    "        burn_years = burn_sec / rl.seconds_per_year\n",
    "\n",
    "        # coordinate time (outside observer\n",
    "        coord_years = rl.coordinate_time(a, burn_sec) / rl.seconds_per_year\n",
    "\n",
    "        # work out top speed as fraction of light speed\n",
    "        peak_velocity = rl.relativistic_velocity(a, burn_sec) / rl.c\n",
    "\n",
    "        # peak lorentz factor\n",
    "        peak_lorentz = rl.lorentz_factor(peak_velocity * rl.c)\n",
    "\n",
    "    apparent_speed = (\n",
    "        rl.ensure(distance_ly) / burn_years\n",
    "    )  # apparent speed in proper years per light year\n",
    "\n",
    "    table.add_row(\n",
    "        [\n",
    "            rl.format_mpf(distance_ly, 0),\n",
    "            rl.format_mpf(burn_years, 2),\n",
    "            rl.format_mpf(coord_years, 1),\n",
    "            rl.format_mpf_significant(peak_velocity, 2, \"9\"),\n",
    "            rl.format_mpf(peak_lorentz, 1),\n",
    "            rl.format_mpf(apparent_speed, 2),\n",
    "        ]\n",
    "    )"
   ]
  },
  {
   "cell_type": "markdown",
   "metadata": {},
   "source": [
    "## Flip-and-burn results\n",
    "\n",
    "`Prop yrs` is the proper time experienced by the traveller, `Coord yrs` is the coordinate time on Earth. `Peak c` is the peak speed in terms of the speed of light, `Lorentz` is the Lorentz factor which gives the time dilation and length contraction effects.\n",
    "\n",
    "`Apparent c` is interesting. Its' the coordinate journey length (uncontracted) divided by proper years experienced by the traveller. Even though the traveller will always measure their speed as less than c (`peak c`), as the lorentz factor causes length contraction the 'apparent' speed can be greater than c. Eg you can travel 25 million light years in 33 years of proper time, which is an apparent speed of 756,097 * c.\n",
    "\n",
    "This hyper-c apparent velocity is only experienced for the traveller, not for the outside universe.\n",
    "\n",
    "Using flip-and-burn you can reach the closest stars in about 4 years, and reach the Andromeda galaxy in 28 years."
   ]
  },
  {
   "cell_type": "code",
   "execution_count": 28,
   "metadata": {},
   "outputs": [
    {
     "name": "stdout",
     "output_type": "stream",
     "text": [
      "+------------+----------+--------------+--------------------+--------------+------------+\n",
      "|         Ly | Prop Yrs |    Co'rd Yrs |             Peak c |      Lorentz | Apparent c |\n",
      "+------------+----------+--------------+--------------------+--------------+------------+\n",
      "|          1 |     1.89 |          2.2 |               0.75 |          1.5 |       0.52 |\n",
      "|          2 |     2.58 |          3.4 |               0.87 |          2.0 |       0.77 |\n",
      "|          3 |     3.07 |          4.5 |              0.919 |          2.5 |       0.97 |\n",
      "|          4 |     3.45 |          5.6 |              0.945 |          3.0 |       1.15 |\n",
      "|          5 |     3.77 |          6.6 |              0.960 |          3.5 |       1.32 |\n",
      "|         10 |     4.85 |         11.7 |              0.986 |          6.1 |       2.06 |\n",
      "|         50 |     7.71 |         51.9 |            0.99930 |         26.8 |       6.48 |\n",
      "|        100 |     9.02 |        101.9 |            0.99981 |         52.6 |      11.08 |\n",
      "|        200 |    10.34 |        201.9 |           0.999953 |        104.2 |      19.33 |\n",
      "|        500 |    12.10 |        501.9 |          0.9999925 |        259.0 |      41.29 |\n",
      "|      1,000 |    13.44 |      1,001.9 |          0.9999981 |        517.1 |      74.35 |\n",
      "|      2,000 |    14.78 |      2,001.9 |         0.99999953 |      1,033.2 |     135.22 |\n",
      "|      5,000 |    16.56 |      5,001.9 |        0.999999924 |      2,581.7 |     301.86 |\n",
      "|     10,000 |    17.90 |     10,001.9 |        0.999999981 |      5,162.4 |     558.46 |\n",
      "|     20,000 |    19.24 |     20,001.9 |       0.9999999953 |     10,323.9 |   1,039.01 |\n",
      "|     50,000 |    21.02 |     50,001.9 |      0.99999999924 |     25,808.3 |   2,378.20 |\n",
      "|    100,000 |    22.36 |    100,001.9 |      0.99999999981 |     51,615.7 |   4,470.85 |\n",
      "|    500,000 |    25.48 |    500,001.9 |    0.9999999999924 |    258,074.8 |  19,619.19 |\n",
      "|  1,000,000 |    26.82 |  1,000,001.9 |    0.9999999999981 |    516,148.6 |  37,274.25 |\n",
      "|  2,500,000 |    28.60 |  2,500,001.9 |   0.99999999999969 |  1,290,370.0 |  87,402.14 |\n",
      "|  5,000,000 |    29.94 |  5,000,001.9 |  0.999999999999924 |  2,580,739.1 | 166,965.30 |\n",
      "| 10,000,000 |    31.28 | 10,000,001.9 |  0.999999999999981 |  5,161,477.3 | 319,598.42 |\n",
      "| 25,000,000 |    33.06 | 25,000,001.9 | 0.9999999999999969 | 12,903,691.9 | 756,097.59 |\n",
      "+------------+----------+--------------+--------------------+--------------+------------+\n"
     ]
    }
   ],
   "source": [
    "for distance in distances:\n",
    "    process_dist(distance, True)\n",
    "\n",
    "print(table)"
   ]
  },
  {
   "cell_type": "markdown",
   "metadata": {},
   "source": [
    "## Non-stop (full burn)\n",
    "\n",
    "Without stopping at the halfway point to slow down, journey time is much reduced. However you wouldn't see much at your destination, which would be passed at `peak c`.\n",
    "\n",
    "You can reach the closest stars in about 2.5 years, and cross the galaxy in 12 years."
   ]
  },
  {
   "cell_type": "code",
   "execution_count": 29,
   "metadata": {},
   "outputs": [
    {
     "name": "stdout",
     "output_type": "stream",
     "text": [
      "+------------+----------+--------------+---------------------+--------------+--------------+\n",
      "|         Ly | Prop Yrs |    Co'rd Yrs |              Peak c |      Lorentz |   Apparent c |\n",
      "+------------+----------+--------------+---------------------+--------------+--------------+\n",
      "|          1 |     1.29 |          1.7 |                0.87 |          2.0 |         0.77 |\n",
      "|          2 |     1.72 |          2.8 |               0.945 |          3.0 |         1.15 |\n",
      "|          3 |     2.02 |          3.8 |               0.969 |          4.0 |         1.48 |\n",
      "|          4 |     2.24 |          4.8 |               0.980 |          5.1 |         1.78 |\n",
      "|          5 |     2.42 |          5.8 |               0.986 |          6.1 |         2.06 |\n",
      "|         10 |     3.02 |         10.9 |              0.9960 |         11.3 |         3.31 |\n",
      "|         50 |     4.51 |         50.9 |             0.99981 |         52.6 |        11.08 |\n",
      "|        100 |     5.17 |        100.9 |            0.999953 |        104.2 |        19.33 |\n",
      "|        200 |     5.83 |        200.9 |            0.999988 |        207.4 |        34.24 |\n",
      "|        500 |     6.72 |        500.9 |           0.9999981 |        517.1 |        74.35 |\n",
      "|      1,000 |     7.39 |      1,000.9 |          0.99999953 |      1,033.2 |       135.22 |\n",
      "|      2,000 |     8.06 |      2,000.9 |          0.99999988 |      2,065.5 |       247.95 |\n",
      "|      5,000 |     8.95 |      5,000.9 |         0.999999981 |      5,162.4 |       558.46 |\n",
      "|     10,000 |     9.62 |     10,000.9 |        0.9999999953 |     10,323.9 |     1,039.01 |\n",
      "|     20,000 |    10.29 |     20,000.9 |        0.9999999988 |     20,646.9 |     1,942.51 |\n",
      "|     50,000 |    11.18 |     50,000.9 |       0.99999999981 |     51,615.7 |     4,470.85 |\n",
      "|    100,000 |    11.85 |    100,000.9 |      0.999999999953 |    103,230.5 |     8,435.25 |\n",
      "|    500,000 |    13.41 |    500,000.9 |     0.9999999999981 |    516,148.6 |    37,274.25 |\n",
      "|  1,000,000 |    14.08 |  1,000,000.9 |    0.99999999999953 |  1,032,296.2 |    70,994.75 |\n",
      "|  2,500,000 |    14.97 |  2,500,000.9 |   0.999999999999924 |  2,580,739.1 |   166,965.30 |\n",
      "|  5,000,000 |    15.64 |  5,000,000.9 |   0.999999999999981 |  5,161,477.3 |   319,598.42 |\n",
      "| 10,000,000 |    16.31 | 10,000,000.9 |  0.9999999999999953 | 10,322,953.7 |   612,891.75 |\n",
      "| 25,000,000 |    17.20 | 25,000,000.9 | 0.99999999999999924 | 25,807,382.8 | 1,453,174.12 |\n",
      "+------------+----------+--------------+---------------------+--------------+--------------+\n"
     ]
    }
   ],
   "source": [
    "table.clear_rows()\n",
    "for distance in distances:\n",
    "    process_dist(distance, False)\n",
    "\n",
    "print(table)"
   ]
  },
  {
   "cell_type": "markdown",
   "metadata": {},
   "source": [
    "## Rapidity\n",
    "\n",
    "*Rapidity* is useful for working with relativistic velocities. It's additive, so you can add rapidities to get the rapidity of the combined system. It's also a linear function of velocity, so you can add rapidities to get the rapidity of the combined system. Then use the `velocity_from_rapidity` to convert it back.\n",
    "\n",
    "*added_velocity = velocity(rapidity(v1) + rapidity(v2))*\n",
    "\n",
    "https://en.wikipedia.org/wiki/Rapidity"
   ]
  },
  {
   "cell_type": "code",
   "execution_count": 30,
   "metadata": {},
   "outputs": [
    {
     "name": "stdout",
     "output_type": "stream",
     "text": [
      "Velocity 1: 299,792,457.9999876 m/s\n",
      "Rapidity 1: 15.75478\n",
      "Velocity 2: 299,792,457.9999999123 m/s\n",
      "Rapidity 2: 18.23054\n",
      "Added rapidity: 33.98532\n",
      "Added velocity: 299,792,457.99999999999999999999818 m/s\n"
     ]
    }
   ],
   "source": [
    "rl.configure(200)\n",
    "\n",
    "# Velocities to add\n",
    "velocity1 = mp.mpf(\"299792457.9999876\")\n",
    "velocity2 = mp.mpf(\"299792457.9999999123\")\n",
    "\n",
    "# convert to rapidity\n",
    "rapidity1 = rl.rapidity_from_velocity(velocity1)\n",
    "rapidity2 = rl.rapidity_from_velocity(velocity2)\n",
    "\n",
    "# add rapidities, and convert back to velocity\n",
    "added_rapidity = rapidity1 + rapidity2\n",
    "final_velocity = rl.velocity_from_rapidity(added_rapidity)\n",
    "\n",
    "# display results\n",
    "print(f\"Velocity 1: {rl.format_mpf(velocity1, -1)} m/s\")\n",
    "print(f\"Rapidity 1: {rl.format_mpf(rapidity1, 5)}\")\n",
    "print(f\"Velocity 2: {rl.format_mpf(velocity2, -1)} m/s\")\n",
    "print(f\"Rapidity 2: {rl.format_mpf(rapidity2, 5)}\")\n",
    "print(f\"Added rapidity: {rl.format_mpf(added_rapidity, 5)}\")\n",
    "print(f\"Added velocity: {rl.format_mpf_significant(final_velocity, 3, '9')} m/s\")"
   ]
  }
 ],
 "metadata": {
  "kernelspec": {
   "display_name": "Python 3",
   "language": "python",
   "name": "python3"
  },
  "language_info": {
   "codemirror_mode": {
    "name": "ipython",
    "version": 3
   },
   "file_extension": ".py",
   "mimetype": "text/x-python",
   "name": "python",
   "nbconvert_exporter": "python",
   "pygments_lexer": "ipython3",
   "version": "3.11.9"
  }
 },
 "nbformat": 4,
 "nbformat_minor": 2
}
