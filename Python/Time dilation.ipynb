{
 "cells": [
  {
   "cell_type": "markdown",
   "metadata": {},
   "source": [
    "# Time dilation and length contraction\n",
    "\n",
    "Many amazing aspects of special relativity, including *time dilation* and *length contraction*, can be understood by using the *Lorentz factor*. It expresses how much the measurements of time, length, and other physical properties change for an object while it moves. The Lorentz factor is given by:\n",
    "\n",
    "$$\\gamma = \\frac{1}{\\sqrt{1 - v^2/c^2}}$$\n",
    "\n",
    "where $v$ is the relative velocity between the two bodies and $c$ is the speed of light. The Lorentz factor is always greater than or equal to 1, and it approaches infinity as the relative velocity approaches the speed of light.\n",
    "\n",
    "### Time dilation\n",
    "\n",
    "Time dilation is when time slows down for an object in motion relative to an observer. The slowed duration is given by **multiplying the normal duration by the Lorentz factor**. Or in more mathematical terms:\n",
    "\n",
    "$$\\Delta t' = \\gamma \\Delta t$$\n",
    "\n",
    "So given a Lorentz factor of 10 (equivalent to a relative speed of about 298,300 km every second), 1 second becomes 10 seconds for an observer.\n",
    "\n",
    "### Length contraction\n",
    "\n",
    "Length contraction is when an object in motion shortens relative to an observer. The contracted length is given by **dividing the normal length by the Lorentz factor**. Or in more mathematical terms:\n",
    "\n",
    "$$L' = L/\\gamma$$\n",
    "\n",
    "So given a Lorentz factor of 10, a 1 metre rod becomes 0.1 metres (10 cm) for an observer.\n",
    "\n",
    "## Putting it into practice\n",
    "\n",
    "Let's work it out the Lorentz factor using Python:"
   ]
  },
  {
   "cell_type": "code",
   "execution_count": 1,
   "metadata": {},
   "outputs": [
    {
     "name": "stdout",
     "output_type": "stream",
     "text": [
      "Lorentz factor for 0.9c = 2.29\n",
      "1 second becomes 2.29 seconds\n",
      "1 metre becomes 0.44 metres\n"
     ]
    }
   ],
   "source": [
    "import math\n",
    "\n",
    "c = 299_792_458.0  # speed of light, metres per second\n",
    "c_squared = c**2  # c squared\n",
    "\n",
    "\n",
    "def lorentz_factor(v: float) -> float:\n",
    "    if v >= c:\n",
    "        return math.inf\n",
    "    return 1.0 / math.sqrt(1.0 - (v**2 / c_squared))\n",
    "\n",
    "\n",
    "lorentz = lorentz_factor(0.9 * c)  # 90% of the speed of light\n",
    "print(f\"Lorentz factor for 0.9c = {lorentz:.2f}\")\n",
    "print(f\"1 second becomes {1.0 * lorentz:.2f} seconds\")\n",
    "print(f\"1 metre becomes {1.0 / lorentz:.2f} metres\")"
   ]
  },
  {
   "cell_type": "markdown",
   "metadata": {},
   "source": [
    "What does this mean in practice? Let's imagine a ship is travelling at 0.9c relative to the Earth. If we watch it using a telescope:\n",
    "\n",
    "- Time on board slows down, so 1 second on ship takes 2.29 seconds on Earth. To us, the ship appears to be moving in slow motion.\n",
    "- In the direction of travel, lengths get contracted so a 1 metre ruler on ship appears to be only 44cm long from the Earth. To us, the ship appears to be squashed.\n",
    "\n",
    "## Symmetry\n",
    "\n",
    "Interestingly this effect is completely symmetrical. If someone on the ship uses a telescope to look back at Earth, they will see the same slowing and length contraction! But of course their own length and time flow appear perfectly normal to them.\n",
    "\n",
    "Since the ship seems slowed from Earth, and the Earth seems slowed from the ship, they will disagree about the time of any events they both witness. It's even possible for them to disagree on the order of events, depending on the exact circumstances.\n",
    "\n",
    "## Length contraction for interstellar travel\n",
    "\n",
    "Length contraction is also symmetric, so a moving body sees the rest of the universe shrink in its direction of travel. Let’s assume you are on a ship travelling at 0.9c between Earth and Proxima 4.2 light years away. We know the Lorentz factor is 2.29, so that means the distance to Proxima becomes 4.2/2.29 = **1.83 light years**. It actually gets closer!\n",
    "\n",
    "Since you are travelling at 0.9c it will take 1.834 / 0.9 = **2.04 years** to make the journey. You have travelled over 4 light years in only 2 years, although you’ve never actually exceeded the speed of light.\n",
    "\n",
    "Using this effect, you can cross the entire universe in a human lifetime, see my [tour of the universe notebook](https://github.com/lookbusy1344/Relativity/blob/main/Python/Universe.ipynb).\n",
    "\n",
    "Now let’s look at some larger Lorentz factors.\n",
    "\n",
    "## A table of Lorentz factors"
   ]
  },
  {
   "cell_type": "code",
   "execution_count": 2,
   "metadata": {},
   "outputs": [
    {
     "name": "stdout",
     "output_type": "stream",
     "text": [
      "Time dilation is the amount 1 second is slowed to\n",
      "Length contraction is the amount 1 metre is contracted to\n"
     ]
    },
    {
     "data": {
      "text/markdown": [
       "|   Velocity | Lorentz factor | Time dilation | Length contraction |\n",
       "|----------: |--------------: |-------------: |------------------: |\n",
       "|       0.1c |          1.005 |      1.01 sec |           99.50 cm |\n",
       "|       0.2c |          1.021 |      1.02 sec |           97.98 cm |\n",
       "|       0.4c |          1.091 |      1.09 sec |           91.65 cm |\n",
       "|       0.6c |          1.250 |      1.25 sec |           80.00 cm |\n",
       "|       0.7c |          1.400 |      1.40 sec |           71.41 cm |\n",
       "|       0.8c |          1.667 |      1.67 sec |           60.00 cm |\n",
       "|       0.9c |          2.294 |      2.29 sec |           43.59 cm |\n",
       "|      0.99c |          7.089 |      7.09 sec |           14.11 cm |\n",
       "|     0.999c |         22.366 |     22.37 sec |            4.47 cm |\n",
       "|    0.9999c |         70.712 |     70.71 sec |            1.41 cm |\n",
       "|   0.99999c |        223.607 |    223.61 sec |            0.45 cm |\n",
       "| 0.9999999c |       2236.068 |   2236.07 sec |            0.04 cm |"
      ],
      "text/plain": [
       "<IPython.core.display.Markdown object>"
      ]
     },
     "metadata": {},
     "output_type": "display_data"
    }
   ],
   "source": [
    "from prettytable import PrettyTable, TableStyle\n",
    "from IPython.display import Markdown\n",
    "\n",
    "table = PrettyTable()\n",
    "table.set_style(TableStyle.MARKDOWN)\n",
    "table.align = \"r\"\n",
    "table.field_names = [\n",
    "    \"Velocity\",\n",
    "    \"Lorentz factor\",\n",
    "    \"Time dilation\",\n",
    "    \"Length contraction\",\n",
    "]\n",
    "\n",
    "\n",
    "def process(fraction: float) -> None:\n",
    "    lorentz = lorentz_factor(fraction * c)\n",
    "    table.add_row(\n",
    "        [\n",
    "            f\"{fraction}c\",\n",
    "            f\"{lorentz:.3f}\",\n",
    "            f\"{1.0 * lorentz:.2f} sec\",\n",
    "            f\"{1.0 / lorentz * 100.0:.2f} cm\",\n",
    "        ]\n",
    "    )\n",
    "\n",
    "\n",
    "# Edit these values to see the effect of different velocities\n",
    "process(0.1)\n",
    "process(0.2)\n",
    "process(0.4)\n",
    "process(0.6)\n",
    "process(0.7)\n",
    "process(0.8)\n",
    "process(0.9)\n",
    "process(0.99)\n",
    "process(0.999)\n",
    "process(0.9999)\n",
    "process(0.99999)\n",
    "process(0.9999999)\n",
    "# process(1.0)\n",
    "\n",
    "print(\"Time dilation is the amount 1 second is slowed to\")\n",
    "print(\"Length contraction is the amount 1 metre is contracted to\")\n",
    "markdown_table = table.get_string()\n",
    "display(Markdown(markdown_table))"
   ]
  },
  {
   "cell_type": "markdown",
   "metadata": {},
   "source": [
    "Note that objects with mass cannot travel at the speed of light, and the Lorentz factor is infinite. At $c$ the equation breaks down, with time stopping, lengths contracting to zero, and mass/energy becoming infinite.\n",
    "\n",
    "## It's all relative\n",
    "\n",
    "These effects are all **relative**, not absolute. There is no universal background to measure your speed against, and an object can appear to have different speeds from different perspectives (frames of reference).\n",
    "\n",
    "Let's recalculate using an object travelling at 0.999c relative to the Earth, but observed from 6 different frames of reference, each traveling at a different speed:"
   ]
  },
  {
   "cell_type": "code",
   "execution_count": 3,
   "metadata": {},
   "outputs": [
    {
     "name": "stdout",
     "output_type": "stream",
     "text": [
      "Velocity of observer - velocity of observer relative to Earth\n",
      "Velocity of object - velocity of object relative to Earth\n",
      "Relative velocity - the difference between the two speeds, which defines the lorentz factor\n"
     ]
    },
    {
     "data": {
      "text/markdown": [
       "| Velocity of observer | Velocity of object | Relative velocity | Lorentz factor | Time dilation | Length contraction |\n",
       "|--------------------: |------------------: |-----------------: |--------------: |-------------: |------------------: |\n",
       "|                 0.0c |             0.999c |            0.999c |      22.366272 |  22.36627 sec |         4.47102 cm |\n",
       "|                 0.1c |             0.999c |            0.899c |       2.283373 |   2.28337 sec |        43.79486 cm |\n",
       "|                 0.5c |             0.999c |            0.499c |       1.153932 |   1.15393 sec |        86.66020 cm |\n",
       "|                 0.9c |             0.999c |            0.099c |       1.004937 |   1.00494 sec |        99.50874 cm |\n",
       "|                0.99c |             0.999c |            0.009c |       1.000041 |   1.00004 sec |        99.99595 cm |\n",
       "|               0.999c |             0.999c |            0.000c |       1.000000 |   1.00000 sec |       100.00000 cm |"
      ],
      "text/plain": [
       "<IPython.core.display.Markdown object>"
      ]
     },
     "metadata": {},
     "output_type": "display_data"
    }
   ],
   "source": [
    "table = PrettyTable()\n",
    "table.set_style(TableStyle.MARKDOWN)\n",
    "table.align = \"r\"\n",
    "table.field_names = [\n",
    "    \"Velocity of observer\",\n",
    "    \"Velocity of object\",\n",
    "    \"Relative velocity\",\n",
    "    \"Lorentz factor\",\n",
    "    \"Time dilation\",\n",
    "    \"Length contraction\",\n",
    "]\n",
    "\n",
    "\n",
    "def processr(v1: float, v2: float) -> None:\n",
    "    f = math.fabs(v1 - v2)\n",
    "    lorentz = lorentz_factor(f * c)\n",
    "    table.add_row(\n",
    "        [\n",
    "            f\"{v1}c\",\n",
    "            f\"{v2}c\",\n",
    "            f\"{f:.3f}c\",\n",
    "            f\"{lorentz:.6f}\",\n",
    "            f\"{1.0 * lorentz:.5f} sec\",\n",
    "            f\"{1.0 / lorentz * 100.0:.5f} cm\",\n",
    "        ]\n",
    "    )\n",
    "\n",
    "\n",
    "# Edit these values to see the effect of different velocities\n",
    "processr(0.0, 0.999)\n",
    "processr(0.1, 0.999)\n",
    "processr(0.5, 0.999)\n",
    "processr(0.9, 0.999)\n",
    "processr(0.99, 0.999)\n",
    "processr(0.999, 0.999)\n",
    "\n",
    "print(\"Velocity of observer - velocity of observer relative to Earth\")\n",
    "print(\"Velocity of object - velocity of object relative to Earth\")\n",
    "print(\n",
    "    \"Relative velocity - the difference between the two speeds, which defines the lorentz factor\"\n",
    ")\n",
    "markdown_table = table.get_string()\n",
    "display(Markdown(markdown_table))"
   ]
  },
  {
   "cell_type": "markdown",
   "metadata": {},
   "source": [
    "## One object in 6 frames of reference\n",
    "\n",
    "Notice that all the rows describe the same object simultaneously from 6 different frames of reference. This is important! An object travelling at 0.999c relative to the Earth has 6 different Lorentz factors from 6 different frames of reference, simultaneously.\n",
    "\n",
    "Any consequences of the lorentz factor (including time dilation, length contraction, and relativistic mass/energy) are strictly frame dependent. They are not absolute changes that apply from all frames of reference.\n",
    "\n",
    "We haven't talked much about relativistic mass and energy, but [it's discussed in detail here](https://github.com/lookbusy1344/Relativity/blob/main/Python/Relativistic%20mass.ipynb)\n",
    "\n",
    "More about the Lorentz factor here:\n",
    "\n",
    "https://en.wikipedia.org/wiki/Lorentz_factor"
   ]
  }
 ],
 "metadata": {
  "kernelspec": {
   "display_name": "Python 3",
   "language": "python",
   "name": "python3"
  },
  "language_info": {
   "codemirror_mode": {
    "name": "ipython",
    "version": 3
   },
   "file_extension": ".py",
   "mimetype": "text/x-python",
   "name": "python",
   "nbconvert_exporter": "python",
   "pygments_lexer": "ipython3",
   "version": "3.12.8"
  }
 },
 "nbformat": 4,
 "nbformat_minor": 2
}
