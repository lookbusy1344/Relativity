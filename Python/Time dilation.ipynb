{
 "cells": [
  {
   "cell_type": "markdown",
   "metadata": {},
   "source": [
    "# Time dilation and length contraction\n",
    "\n",
    "Many amazing aspects of special relativity, including *time dilation* and *length contraction*, can be understood by using the *Lorentz factor*. The Lorentz factor is a function of the relative velocity between two observers, and it is given by\n",
    "\n",
    "$$\\gamma = \\frac{1}{\\sqrt{1 - v^2/c^2}}$$\n",
    "\n",
    "where $v$ is the relative velocity between the two observers and $c$ is the speed of light. The Lorentz factor is always greater than or equal to 1, and it approaches infinity as the relative velocity approaches the speed of light.\n",
    "\n",
    "### Time dilation\n",
    "\n",
    "Time dilation is when time slows down for an observer in motion relative to a stationary observer. The slowed duration is given by just multiplying the normal duration by the Lorentz factor. Or in more mathematical terms:\n",
    "\n",
    "$$\\Delta t' = \\gamma \\Delta t$$\n",
    "\n",
    "### Length contraction\n",
    "\n",
    "Length contraction is when an object shortens for an observer in motion relative to a stationary observer. The contracted length is given by dividing the normal length by the Lorentz factor. Or in more mathematical terms:\n",
    "\n",
    "$$L' = L/\\gamma$$\n",
    "\n",
    "## Putting it into practice\n",
    "\n",
    "Let's work it out the Lorentz factor using Python:"
   ]
  },
  {
   "cell_type": "code",
   "execution_count": 64,
   "metadata": {},
   "outputs": [
    {
     "name": "stdout",
     "output_type": "stream",
     "text": [
      "Lorentz factor for 0.9c = 2.29\n",
      "1 second becomes 2.29 seconds\n",
      "1 metre becomes 0.44 metres\n"
     ]
    }
   ],
   "source": [
    "import math\n",
    "\n",
    "c = 299_792_458.0  # speed of light, metres per second\n",
    "c_squared = c**2  # c squared\n",
    "\n",
    "\n",
    "def lorentz_factor(v: float) -> float:\n",
    "    if v >= c:\n",
    "        return math.inf\n",
    "    return 1.0 / math.sqrt(1.0 - (v**2 / c_squared))\n",
    "\n",
    "\n",
    "lorentz = lorentz_factor(0.9 * c)  # 90% of the speed of light\n",
    "print(f\"Lorentz factor for 0.9c = {lorentz:.2f}\")\n",
    "print(f\"1 second becomes {1.0 * lorentz:.2f} seconds\")\n",
    "print(f\"1 metre becomes {1.0 / lorentz:.2f} metres\")"
   ]
  },
  {
   "cell_type": "markdown",
   "metadata": {},
   "source": [
    "## A table of Lorentz factors"
   ]
  },
  {
   "cell_type": "code",
   "execution_count": 65,
   "metadata": {},
   "outputs": [
    {
     "name": "stdout",
     "output_type": "stream",
     "text": [
      "Time dilation is the amount 1 second is slowed to\n",
      "Length contraction is the amount 1 metre is contracted to\n"
     ]
    },
    {
     "data": {
      "text/markdown": [
       "| Velocity | Lorentz factor | Time dilation | Length contraction |\n",
       "|--------: |--------------: |-------------: |------------------: |\n",
       "|     0.1c |           1.01 |      1.01 sec |           99.50 cm |\n",
       "|     0.2c |           1.02 |      1.02 sec |           97.98 cm |\n",
       "|     0.4c |           1.09 |      1.09 sec |           91.65 cm |\n",
       "|     0.6c |           1.25 |      1.25 sec |           80.00 cm |\n",
       "|     0.7c |           1.40 |      1.40 sec |           71.41 cm |\n",
       "|     0.8c |           1.67 |      1.67 sec |           60.00 cm |\n",
       "|     0.9c |           2.29 |      2.29 sec |           43.59 cm |\n",
       "|    0.99c |           7.09 |      7.09 sec |           14.11 cm |\n",
       "|   0.999c |          22.37 |     22.37 sec |            4.47 cm |\n",
       "|  0.9999c |          70.71 |     70.71 sec |            1.41 cm |\n",
       "| 0.99999c |         223.61 |    223.61 sec |            0.45 cm |\n",
       "|     1.0c |            inf |       inf sec |            0.00 cm |"
      ],
      "text/plain": [
       "<IPython.core.display.Markdown object>"
      ]
     },
     "metadata": {},
     "output_type": "display_data"
    }
   ],
   "source": [
    "from prettytable import PrettyTable, TableStyle\n",
    "from IPython.display import Markdown\n",
    "\n",
    "table = PrettyTable()\n",
    "table.set_style(TableStyle.MARKDOWN)\n",
    "table.align = \"r\"\n",
    "table.field_names = [\n",
    "    \"Velocity\",\n",
    "    \"Lorentz factor\",\n",
    "    \"Time dilation\",\n",
    "    \"Length contraction\",\n",
    "]\n",
    "\n",
    "\n",
    "def process(fraction: float) -> None:\n",
    "    lorentz = lorentz_factor(fraction * c)\n",
    "    table.add_row(\n",
    "        [\n",
    "            f\"{fraction}c\",\n",
    "            f\"{lorentz:.2f}\",\n",
    "            f\"{1.0 * lorentz:.2f} sec\",\n",
    "            f\"{1.0 / lorentz * 100.0:.2f} cm\",\n",
    "        ]\n",
    "    )\n",
    "\n",
    "\n",
    "# Edit these values to see the effect of different velocities\n",
    "process(0.1)\n",
    "process(0.2)\n",
    "process(0.4)\n",
    "process(0.6)\n",
    "process(0.7)\n",
    "process(0.8)\n",
    "process(0.9)\n",
    "process(0.99)\n",
    "process(0.999)\n",
    "process(0.9999)\n",
    "process(0.99999)\n",
    "process(1.0)\n",
    "\n",
    "print(\"Time dilation is the amount 1 second is slowed to\")\n",
    "print(\"Length contraction is the amount 1 metre is contracted to\")\n",
    "markdown_table = table.get_string()\n",
    "display(Markdown(markdown_table))"
   ]
  },
  {
   "cell_type": "markdown",
   "metadata": {},
   "source": [
    "Note that objects with mass cannot travel at the speed of light, so the Lorentz factor is finite. The equation breaks down, with time stopping and lengths contracting to zero.\n",
    "\n",
    "## It's all about relative velocity\n",
    "\n",
    "It's important to realize time dilation and length contraction are **relative** (not absolute) effects. There is no universal background to measure your speed. So in fact we should calculate the figures like this:"
   ]
  },
  {
   "cell_type": "code",
   "execution_count": 66,
   "metadata": {},
   "outputs": [
    {
     "name": "stdout",
     "output_type": "stream",
     "text": [
      "Velocity1 - first speed to consider\n",
      "Velocity2 - second speed to consider\n",
      "Relative velocity - the difference between the two speeds, which defines the lorentz factor\n"
     ]
    },
    {
     "data": {
      "text/markdown": [
       "| Velocity1 | Velocity2 | Relative velocity | Lorentz factor | Time dilation | Length contraction |\n",
       "|---------: |---------: |-----------------: |--------------: |-------------: |------------------: |\n",
       "|      0.0c |    0.999c |            0.999c |      22.366272 |  22.36627 sec |         4.47102 cm |\n",
       "|      0.1c |    0.999c |            0.899c |       2.283373 |   2.28337 sec |        43.79486 cm |\n",
       "|      0.5c |    0.999c |            0.499c |       1.153932 |   1.15393 sec |        86.66020 cm |\n",
       "|      0.9c |    0.999c |            0.099c |       1.004937 |   1.00494 sec |        99.50874 cm |\n",
       "|     0.99c |    0.999c |            0.009c |       1.000041 |   1.00004 sec |        99.99595 cm |\n",
       "|    0.999c |    0.999c |            0.000c |       1.000000 |   1.00000 sec |       100.00000 cm |"
      ],
      "text/plain": [
       "<IPython.core.display.Markdown object>"
      ]
     },
     "metadata": {},
     "output_type": "display_data"
    }
   ],
   "source": [
    "table = PrettyTable()\n",
    "table.set_style(TableStyle.MARKDOWN)\n",
    "table.align = \"r\"\n",
    "table.field_names = [\n",
    "    \"Velocity1\",\n",
    "    \"Velocity2\",\n",
    "    \"Relative velocity\",\n",
    "    \"Lorentz factor\",\n",
    "    \"Time dilation\",\n",
    "    \"Length contraction\",\n",
    "]\n",
    "\n",
    "\n",
    "def processr(v1: float, v2: float) -> None:\n",
    "    f = math.fabs(v1 - v2)\n",
    "    lorentz = lorentz_factor(f * c)\n",
    "    table.add_row(\n",
    "        [\n",
    "            f\"{v1}c\",\n",
    "            f\"{v2}c\",\n",
    "            f\"{f:.3f}c\",\n",
    "            f\"{lorentz:.6f}\",\n",
    "            f\"{1.0 * lorentz:.5f} sec\",\n",
    "            f\"{1.0 / lorentz * 100.0:.5f} cm\",\n",
    "        ]\n",
    "    )\n",
    "\n",
    "\n",
    "# Edit these values to see the effect of different velocities\n",
    "processr(0.0, 0.999)\n",
    "processr(0.1, 0.999)\n",
    "processr(0.5, 0.999)\n",
    "processr(0.9, 0.999)\n",
    "processr(0.99, 0.999)\n",
    "processr(0.999, 0.999)\n",
    "\n",
    "print(\"Velocity1 - first speed to consider\")\n",
    "print(\"Velocity2 - second speed to consider\")\n",
    "print(\n",
    "    \"Relative velocity - the difference between the two speeds, which defines the lorentz factor\"\n",
    ")\n",
    "markdown_table = table.get_string()\n",
    "display(Markdown(markdown_table))"
   ]
  },
  {
   "cell_type": "markdown",
   "metadata": {},
   "source": [
    "Notice that all the rows can describe a single object simultaneously from 6 different frames of reference. This is important!\n",
    "\n",
    "An object travelling at 0.99c (relative to, for example the Earth) has 6 different Lorentz factors from 6 different frames of reference, simultaneously.\n",
    "\n",
    "Any consequences of the lorentz factor (including time dilation, length contraction, and \"relativistic mass\") are strictly frame dependent. They are not absolute changes that apply from all frames of reference.\n",
    "\n",
    "[Relativistic mass is explained in a lot more detail here](https://github.com/lookbusy1344/Relativity/blob/main/Python/Relativistic%20mass.ipynb)"
   ]
  }
 ],
 "metadata": {
  "kernelspec": {
   "display_name": "Python 3",
   "language": "python",
   "name": "python3"
  },
  "language_info": {
   "codemirror_mode": {
    "name": "ipython",
    "version": 3
   },
   "file_extension": ".py",
   "mimetype": "text/x-python",
   "name": "python",
   "nbconvert_exporter": "python",
   "pygments_lexer": "ipython3",
   "version": "3.12.8"
  }
 },
 "nbformat": 4,
 "nbformat_minor": 2
}
