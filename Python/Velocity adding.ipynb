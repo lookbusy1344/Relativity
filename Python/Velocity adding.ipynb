{
 "cells": [
  {
   "cell_type": "markdown",
   "metadata": {},
   "source": [
    "# Velocity adding in special relativity\n",
    "\n",
    "*This is a [Jupyter Notebook](https://en.wikipedia.org/wiki/Project_Jupyter), a type of document that can contain text, images and runnable Python code. You can view it in your web browser, or transfer a copy to Google Colab with one click and edit it from your device. It can also be downloaded to your PC for more advanced editing.*\n",
    "\n",
    "*Don't worry about any Python code if you're not a programmer. You can skip over it and just read the results, which are usually tables or graphs. The code is there to help you understand the maths, and to make it easier to experiment with different values.*\n",
    "\n",
    "*The maths needed for special relativity is not difficult, there's nothing more complicated than high school algebra.*\n",
    "\n",
    "[![Open In Colab](https://colab.research.google.com/assets/colab-badge.svg)](https://colab.research.google.com/github/lookbusy1344/Relativity/blob/main/Python/Velocity%20adding.ipynb)\n",
    "\n",
    "## What happens when you add two speeds, each close to light speed?\n",
    "\n",
    "Two objects are passing each other, each travelling at 99.99% $c$ (light speed) in opposite directions. What velocity do they measure for each other?\n",
    "\n",
    "**99.99% $c$ + 99.99% $c$ = ?**\n",
    "\n",
    "More than light speed? No, heres why.\n",
    "\n",
    "## In everyday life\n",
    "\n",
    "In everyday life, we can just add velocities like this:\n",
    "\n",
    "\\begin{equation}\n",
    "v_{\\text{total}} = v_1 + v_2\n",
    "\\end{equation}\n",
    "\n",
    "So if an object travelling at 100 metres per second passes another object going at 100 m/s in the opposite direction, they measure each other's speed as just:\n",
    "\n",
    "\\begin{equation}\n",
    "100 + 100 = 200\n",
    "\\end{equation}\n",
    "\n",
    "But this common sense approach is only an approximation, and breaks down as speeds get closer to $c$.\n",
    "\n",
    "## Relativistic velocity addition\n",
    "\n",
    "The correct way to add any velocities is like this:\n",
    "\n",
    "\\begin{equation}\n",
    "v_{\\text{total}} = \\frac{v_1 + v_2}{1 + \\frac{v_1 v_2}{c^2}}\n",
    "\\end{equation}\n",
    "\n",
    "The difference is microscopic for everyday speeds, so no one notices. But as you get closer to $c$ it becomes more significant.\n",
    "\n",
    "The new equation is a bit more complicated, so let's write some Python code to help us. This is where the fun begins!"
   ]
  },
  {
   "cell_type": "code",
   "execution_count": 1,
   "metadata": {
    "ExecuteTime": {
     "end_time": "2025-08-19T13:54:32.602731Z",
     "start_time": "2025-08-19T13:54:32.600325Z"
    },
    "trusted": true
   },
   "outputs": [
    {
     "name": "stdout",
     "output_type": "stream",
     "text": [
      "100.0 m/s + 100.0 m/s = 199.99999999997775 m/s\n"
     ]
    }
   ],
   "source": [
    "import math\n",
    "\n",
    "c = 299_792_458.0  # speed of light, metres per second\n",
    "c_squared = c**2  # c squared\n",
    "\n",
    "\n",
    "def add_vel(v1: float, v2: float) -> float:\n",
    "    if v1 >= c or v2 >= c:\n",
    "        return math.nan\n",
    "    return (v1 + v2) / (1.0 + (v1 * v2) / c_squared)\n",
    "\n",
    "\n",
    "speed1 = 100.0  # speed of first object in metres per second, EDIT THIS\n",
    "speed2 = 100.0  # speed of second object in metres per second, EDIT THIS\n",
    "print(f\"{speed1} m/s + {speed2} m/s = {add_vel(speed1, speed2)} m/s\")"
   ]
  },
  {
   "cell_type": "markdown",
   "metadata": {},
   "source": [
    "Almost the same answer, to within 10 decimal places. Let's try it with some faster speeds."
   ]
  },
  {
   "cell_type": "code",
   "execution_count": 2,
   "metadata": {
    "ExecuteTime": {
     "end_time": "2025-08-19T13:54:32.613014Z",
     "start_time": "2025-08-19T13:54:32.606518Z"
    },
    "trusted": true
   },
   "outputs": [
    {
     "name": "stdout",
     "output_type": "stream",
     "text": [
      "Adding velocities relativistically, and discrepancy with newtonian physics\n"
     ]
    },
    {
     "data": {
      "text/markdown": "| Velocity1 (m/s) | Velocity2 (m/s) | Added relativistically (m/s) | Discrepancy |\n|---------------: |---------------: |----------------------------: |-----------: |\n|           1,000 |           1,000 |          1,999.9999999777472 |   0.000000% |\n|         100,000 |         100,000 |          199,999.97774700134 |   0.000011% |\n|       1,000,000 |       1,000,000 |                  1,999,977.7 |   0.001113% |\n|      10,000,000 |      10,000,000 |                 19,977,771.7 |   0.111141% |\n|     100,000,000 |     100,000,000 |                179,975,072.5 |  10.012464% |\n|     200,000,000 |     200,000,000 |                276,805,111.1 |  30.798722% |",
      "text/plain": [
       "<IPython.core.display.Markdown object>"
      ]
     },
     "metadata": {},
     "output_type": "display_data"
    }
   ],
   "source": [
    "from prettytable import PrettyTable, TableStyle\n",
    "from IPython.display import Markdown\n",
    "\n",
    "table = PrettyTable()\n",
    "table.set_style(TableStyle.MARKDOWN)\n",
    "table.align = \"r\"\n",
    "table.field_names = [\n",
    "    \"Velocity1 (m/s)\",\n",
    "    \"Velocity2 (m/s)\",\n",
    "    \"Added relativistically (m/s)\",\n",
    "    \"Discrepancy\",\n",
    "]\n",
    "\n",
    "\n",
    "def calculate(v: float, round: bool = True) -> None:\n",
    "    simple = v + v\n",
    "    relativistic = add_vel(v, v)\n",
    "    diff = 1.0 - relativistic / simple  # difference as a percentage\n",
    "    if round:\n",
    "        rel_str = f\"{relativistic:,.1f}\"\n",
    "    else:\n",
    "        rel_str = f\"{relativistic:,}\"\n",
    "    table.add_row([f\"{v:,}\", f\"{v:,}\", rel_str, f\"{diff:%}\"])\n",
    "\n",
    "\n",
    "# change these, but make sure they are less than light speed\n",
    "calculate(1_000, False)\n",
    "calculate(100_000, False)\n",
    "calculate(1_000_000)\n",
    "calculate(10_000_000)\n",
    "calculate(100_000_000)\n",
    "calculate(200_000_000)\n",
    "\n",
    "print(\"Adding velocities relativistically, and discrepancy with newtonian physics\")\n",
    "markdown_table = table.get_string()\n",
    "display(Markdown(markdown_table));"
   ]
  },
  {
   "cell_type": "markdown",
   "metadata": {},
   "source": [
    "## Effect gets proportionally larger\n",
    "\n",
    "The difference between simple and relativistic addition gets larger as speeds increase. At 2 km/s it is almost zero, but at 200,000 km/s it has shot up to over 30%.\n",
    "\n",
    "For faster speeds, let's switch to using fractions of $c$ (light speed) instead of m/s. Everything else is the same:"
   ]
  },
  {
   "cell_type": "code",
   "execution_count": 3,
   "metadata": {
    "ExecuteTime": {
     "end_time": "2025-08-19T13:54:32.627301Z",
     "start_time": "2025-08-19T13:54:32.621627Z"
    },
    "trusted": true
   },
   "outputs": [
    {
     "name": "stdout",
     "output_type": "stream",
     "text": [
      "Adding velocities relativistically, and discrepancy with newtonian physics\n"
     ]
    },
    {
     "data": {
      "text/markdown": "| Velocity1 (c) | Velocity2 (c) | Added relativistically (c) | Discrepancy |\n|-------------: |-------------: |--------------------------: |-----------: |\n|        10.00% |        10.00% |                     19.80% |        1.0% |\n|        20.00% |        20.00% |                     38.46% |        3.8% |\n|        30.00% |        30.00% |                     55.05% |        8.3% |\n|        40.00% |        40.00% |                     68.97% |       13.8% |\n|        50.00% |        50.00% |                     80.00% |       20.0% |\n|        70.00% |        70.00% |                     93.96% |       32.9% |\n|        90.00% |        90.00% |                     99.45% |       44.8% |\n|        95.00% |        95.00% |                     99.87% |       47.4% |\n|        99.00% |        99.00% |                99.9949498% |       49.5% |\n|        99.99% |        99.99% |                99.9999995% |       50.0% |",
      "text/plain": [
       "<IPython.core.display.Markdown object>"
      ]
     },
     "metadata": {},
     "output_type": "display_data"
    }
   ],
   "source": [
    "table = PrettyTable()\n",
    "table.set_style(TableStyle.MARKDOWN)\n",
    "table.align = \"r\"\n",
    "table.field_names = [\n",
    "    \"Velocity1 (c)\",\n",
    "    \"Velocity2 (c)\",\n",
    "    \"Added relativistically (c)\",\n",
    "    \"Discrepancy\",\n",
    "]\n",
    "\n",
    "\n",
    "def add_vel_c(v1: float, v2: float) -> float:\n",
    "    # two velocities as fraction of c\n",
    "    if v1 >= 1.0 or v2 >= 1.0:\n",
    "        return math.nan\n",
    "    return (v1 + v2) / (1.0 + (v1 * v2))\n",
    "\n",
    "\n",
    "def calculate_c(v: float, extra_decimals: bool = False) -> None:\n",
    "    simple = v + v\n",
    "    relativistic = add_vel_c(v, v)\n",
    "    diff = 1.0 - relativistic / simple  # difference as a percentage\n",
    "    if extra_decimals:\n",
    "        table.add_row([f\"{v:.2%}\", f\"{v:.2%}\", f\"{relativistic:.7%}\", f\"{diff:.1%}\"])\n",
    "    else:\n",
    "        table.add_row([f\"{v:.2%}\", f\"{v:.2%}\", f\"{relativistic:.2%}\", f\"{diff:.1%}\"])\n",
    "\n",
    "\n",
    "# change these, but make sure they are less than light speed, 1.0\n",
    "calculate_c(0.1)  # 10% light speed\n",
    "calculate_c(0.2)\n",
    "calculate_c(0.3)\n",
    "calculate_c(0.4)\n",
    "calculate_c(0.5)  # 50% light speed\n",
    "calculate_c(0.7)\n",
    "calculate_c(0.9)\n",
    "calculate_c(0.95)\n",
    "calculate_c(0.99, extra_decimals=True)\n",
    "calculate_c(0.9999, extra_decimals=True)  # the original question, 99.99% light speed\n",
    "\n",
    "print(\"Adding velocities relativistically, and discrepancy with newtonian physics\")\n",
    "markdown_table = table.get_string()\n",
    "display(Markdown(markdown_table));"
   ]
  },
  {
   "cell_type": "markdown",
   "metadata": {},
   "source": [
    "Notice how the discrepancy grows up to 50%, and the added velocities never exceed $c$.\n",
    "\n",
    "## So the answer to our original question\n",
    "\n",
    "**99.99% $c$ + 99.99% $c$ = 99.9999995% $c$**\n",
    "\n",
    "How about that! Regardless of your velocities, you will never measure a speed greater than $c$.\n",
    "\n",
    "## Faster speeds need more precision\n",
    "\n",
    "Standard Python can handle about 15 decimal places of precision, which is enough for everyday calculations. But when we get close to $c$ we need more precision, potentially hundreds of decimal places, to get an accurate answer.\n",
    "\n",
    "The rest of these notebooks use my *relativity_lib.py* library, which uses mpmath to handle arbitrary precision arithmetic. It can perform relativistic calculations to any precision required.\n",
    "\n",
    "Here's a very quick demo:"
   ]
  },
  {
   "cell_type": "code",
   "execution_count": 4,
   "metadata": {
    "ExecuteTime": {
     "end_time": "2025-08-19T13:54:32.648395Z",
     "start_time": "2025-08-19T13:54:32.635047Z"
    }
   },
   "outputs": [
    {
     "name": "stdout",
     "output_type": "stream",
     "text": [
      "Helper library: 0.999999999c * 2 = 0.9999999999999999995\n",
      "Helper library: 0.9999999999999999c * 2 = 0.999999999999999999999999999999995\n"
     ]
    }
   ],
   "source": [
    "# Download relativity_lib.py from your GitHub repo if not present. Important for colab.\n",
    "import os\n",
    "\n",
    "if not os.path.exists(\"relativity_lib.py\"):\n",
    "    !wget -q https://raw.githubusercontent.com/lookbusy1344/Relativity/main/Python/relativity_lib.py\n",
    "\n",
    "import mpmath as mp\n",
    "import relativity_lib as rl\n",
    "\n",
    "# Use 100 decimal places. Standard Python can only handle about 15-17 decimal places, we are going to need more\n",
    "rl.configure(100)\n",
    "\n",
    "very_fast = mp.mpf(\"0.999999999\") * rl.c\n",
    "immensely_fast = mp.mpf(\"0.9999999999999999\") * rl.c\n",
    "\n",
    "very_fast_2 = rl.add_velocities(very_fast, very_fast) / rl.c\n",
    "immensely_fast_2 = rl.add_velocities(immensely_fast, immensely_fast) / rl.c\n",
    "\n",
    "print(f\"Helper library: 0.999999999c * 2 = {mp.nstr(very_fast_2, 20)}\")\n",
    "print(f\"Helper library: 0.9999999999999999c * 2 = {mp.nstr(immensely_fast_2, 40)}\")"
   ]
  },
  {
   "cell_type": "markdown",
   "metadata": {},
   "source": [
    "## Next steps\n",
    "\n",
    "[Time dilation and length contraction](https://github.com/lookbusy1344/Relativity/blob/main/Python/Time%20dilation.ipynb)\n",
    "\n",
    "[Index of my Python relativity tools](https://github.com/lookbusy1344/Relativity/blob/main/Python/README.md)\n",
    "\n",
    "Here's the wikipedia page on the topic: https://en.wikipedia.org/wiki/Velocity-addition_formula#Special_relativity"
   ]
  }
 ],
 "metadata": {
  "kernelspec": {
   "display_name": ".venv",
   "language": "python",
   "name": "python3"
  },
  "language_info": {
   "codemirror_mode": {
    "name": "ipython",
    "version": 3
   },
   "file_extension": ".py",
   "mimetype": "text/x-python",
   "name": "python",
   "nbconvert_exporter": "python",
   "pygments_lexer": "ipython3",
   "version": "3.13.5"
  }
 },
 "nbformat": 4,
 "nbformat_minor": 2
}
