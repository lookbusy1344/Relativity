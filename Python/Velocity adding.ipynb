{
 "cells": [
  {
   "cell_type": "markdown",
   "metadata": {},
   "source": [
    "# Velocity adding in special relativity\n",
    "\n",
    "## What happens when you add two speeds close to light speed?\n",
    "\n",
    "Two objects are passing each other, each travelling at 99.99% light speed relative to a stationary object. What velocity do they measure for each other? More than light speed?\n",
    "\n",
    "No, heres why.\n",
    "\n",
    "## In everyday life\n",
    "\n",
    "In everyday life, we can just add velocities like this:\n",
    "\n",
    "\\begin{equation}\n",
    "v_{\\text{total}} = v_1 + v_2\n",
    "\\end{equation}\n",
    "\n",
    "So if an object travelling at 100 metres per second passes another object going at 100 m/s in the opposite direction, they measure each other's speed as just:\n",
    "\n",
    "\\begin{equation}\n",
    "100 + 100 = 200\n",
    "\\end{equation}\n",
    "\n",
    "But this common sense approach is only an approximation, and breaks down as speeds get closer to $c$ (light speed).\n",
    "\n",
    "## Relativistic velocity addition\n",
    "\n",
    "The correct way to add any velocities is like this:\n",
    "\n",
    "\\begin{equation}\n",
    "v_{\\text{total}} = \\frac{v_1 + v_2}{1 + \\frac{v_1 v_2}{c^2}}\n",
    "\\end{equation}\n",
    "\n",
    "The difference is microscopic for everyday speeds, so no one notices. But as you get closer to light speed it becomes more significant.\n",
    "\n",
    "The new equation is a bit more complicated, so let's write some Python code to help us in this Jupyter Notebook.\n",
    "\n",
    "*You can download this notebook, and experiment with it on your PC or device. Try out your own velocity additions if you like!*"
   ]
  },
  {
   "cell_type": "code",
   "execution_count": 7,
   "metadata": {
    "trusted": true
   },
   "outputs": [
    {
     "name": "stdout",
     "output_type": "stream",
     "text": [
      "100 + 100 = 199.99999999997775\n"
     ]
    }
   ],
   "source": [
    "import math\n",
    "\n",
    "c = 299_792_458.0  # speed of light, metres per second\n",
    "c_squared = c**2  # c squared\n",
    "\n",
    "\n",
    "def add_vel(v1: float, v2: float) -> float:\n",
    "    if v1 >= c or v2 >= c:\n",
    "        return math.nan\n",
    "    return (v1 + v2) / (1.0 + (v1 * v2) / c_squared)\n",
    "\n",
    "\n",
    "# test it\n",
    "print(f\"100 + 100 = {add_vel(100, 100)}\")"
   ]
  },
  {
   "cell_type": "markdown",
   "metadata": {},
   "source": [
    "Almost the same answer, to within 10 decimal places. Let's try it with some faster speeds."
   ]
  },
  {
   "cell_type": "code",
   "execution_count": 8,
   "metadata": {
    "trusted": true
   },
   "outputs": [
    {
     "name": "stdout",
     "output_type": "stream",
     "text": [
      "1,000 m/s + 1,000 m/s = 1,999.9999999777472 (discrepancy 0.000000%)\n",
      "100,000 m/s + 100,000 m/s = 199,999.97774700134 (discrepancy 0.000011%)\n",
      "1,000,000 m/s + 1,000,000 m/s = 1,999,977.7 (discrepancy 0.001113%)\n",
      "10,000,000 m/s + 10,000,000 m/s = 19,977,771.7 (discrepancy 0.111141%)\n",
      "100,000,000 m/s + 100,000,000 m/s = 179,975,072.5 (discrepancy 10.012464%)\n",
      "200,000,000 m/s + 200,000,000 m/s = 276,805,111.1 (discrepancy 30.798722%)\n"
     ]
    }
   ],
   "source": [
    "def calculate(v: float, round: bool = True) -> None:\n",
    "    simple = v + v\n",
    "    relativistic = add_vel(v, v)\n",
    "    diff = 1.0 - relativistic / simple  # difference as a percentage\n",
    "    if round:\n",
    "        print(f\"{v:,} m/s + {v:,} m/s = {relativistic:,.1f} (discrepancy {diff:%})\")\n",
    "    else:\n",
    "        print(f\"{v:,} m/s + {v:,} m/s = {relativistic:,} (discrepancy {diff:%})\")\n",
    "\n",
    "\n",
    "# change these, but make sure they are less than light speed\n",
    "calculate(1_000, False)\n",
    "calculate(100_000, False)\n",
    "calculate(1_000_000)\n",
    "calculate(10_000_000)\n",
    "calculate(100_000_000)\n",
    "calculate(200_000_000)"
   ]
  },
  {
   "cell_type": "markdown",
   "metadata": {},
   "source": [
    "## Effect gets proportionally larger\n",
    "\n",
    "The difference between simple and relativistic addition gets larger as speeds increase. At 2 km/s it is almost zero, but at 400,000 km/s it has shot up to over 30%.\n",
    "\n",
    "For faster speeds, let's switch to using fractions of $c$ (light speed) instead of m/s. Everything else is the same:"
   ]
  },
  {
   "cell_type": "code",
   "execution_count": 9,
   "metadata": {
    "trusted": true
   },
   "outputs": [
    {
     "name": "stdout",
     "output_type": "stream",
     "text": [
      "0.1c + 0.1c = 0.19801980198019803 (discrepancy 1.0%)\n",
      "0.2c + 0.2c = 0.38461538461538464 (discrepancy 3.8%)\n",
      "0.3c + 0.3c = 0.5504587155963302 (discrepancy 8.3%)\n",
      "0.4c + 0.4c = 0.689655172413793 (discrepancy 13.8%)\n",
      "0.5c + 0.5c = 0.8 (discrepancy 20.0%)\n",
      "0.7c + 0.7c = 0.9395973154362416 (discrepancy 32.9%)\n",
      "0.9c + 0.9c = 0.994475138121547 (discrepancy 44.8%)\n",
      "0.95c + 0.95c = 0.9986859395532195 (discrepancy 47.4%)\n",
      "0.9999c + 0.9999c = 0.9999999949995 (discrepancy 50.0%)\n",
      "0.999999c + 0.999999c = 0.9999999999995001 (discrepancy 50.0%)\n"
     ]
    }
   ],
   "source": [
    "def add_vel_c(v1: float, v2: float) -> float:\n",
    "    # two velocities as fraction of c\n",
    "    if v1 >= 1.0 or v2 >= 1.0:\n",
    "        return math.nan\n",
    "    return (v1 + v2) / (1.0 + (v1 * v2))\n",
    "\n",
    "\n",
    "def calculate_c(v1: float) -> None:\n",
    "    simple = v1 + v1\n",
    "    relativistic = add_vel_c(v1, v1)\n",
    "    diff = 1.0 - relativistic / simple  # difference as a percentage\n",
    "    print(f\"{v1:,}c + {v1:,}c = {relativistic:,} (discrepancy {diff:.1%})\")\n",
    "\n",
    "\n",
    "# change these, but make sure they are less than light speed, 1.0\n",
    "calculate_c(0.1)\n",
    "calculate_c(0.2)\n",
    "calculate_c(0.3)\n",
    "calculate_c(0.4)\n",
    "calculate_c(0.5)\n",
    "calculate_c(0.7)\n",
    "calculate_c(0.9)\n",
    "calculate_c(0.95)\n",
    "calculate_c(0.9999)\n",
    "calculate_c(0.999999)\n",
    "# calculate_c(1.0)"
   ]
  },
  {
   "cell_type": "markdown",
   "metadata": {},
   "source": [
    "Notice how the discrepancy grows up to 50%, and the added velocities never exceed $c$\n",
    "\n",
    "# So the answer to our question\n",
    "\n",
    "99.99% c + 99.99% c = 99.99999949995% c\n",
    "\n",
    "How about that! Regardless of your velocities, you will never measure a speed greater than $c$.\n",
    "\n",
    "## More info\n",
    "\n",
    "For more on relativistic velocities, check out \n",
    "\n",
    "https://en.wikipedia.org/wiki/Velocity-addition_formula#Special_relativity\n",
    "\n",
    "[And my Python relativity tools](https://github.com/lookbusy1344/Relativity/blob/main/Python/README.md)"
   ]
  }
 ],
 "metadata": {
  "kernelspec": {
   "display_name": "Python 3",
   "language": "python",
   "name": "python3"
  },
  "language_info": {
   "codemirror_mode": {
    "name": "ipython",
    "version": 3
   },
   "file_extension": ".py",
   "mimetype": "text/x-python",
   "name": "python",
   "nbconvert_exporter": "python",
   "pygments_lexer": "ipython3",
   "version": "3.12.8"
  }
 },
 "nbformat": 4,
 "nbformat_minor": 2
}
